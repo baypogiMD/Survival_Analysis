{
  "nbformat": 4,
  "nbformat_minor": 0,
  "metadata": {
    "colab": {
      "name": "08 - Survival Analysis.ipynb",
      "provenance": [],
      "collapsed_sections": []
    },
    "kernelspec": {
      "name": "python3",
      "display_name": "Python 3"
    },
    "language_info": {
      "name": "python"
    }
  },
  "cells": [
    {
      "cell_type": "markdown",
      "metadata": {
        "id": "tAeA3i7KSuf_"
      },
      "source": [
        "# Survival Analysis\n",
        "Used to know the expected time when one or more event will occur (e.g. death, remission, relapse, recurrence, etc).\n",
        "<br> It models time to event data.\n",
        "<br>\n",
        "\n",
        "When describing the survival times of group members, we use:\n",
        "* Life tables\n",
        "* Kaplan-Meier curves\n",
        "* Survival function\n",
        "* Hazard function\n",
        "<br>\n",
        "\n",
        "When comparing the survival times of 2 or more groups, we use:\n",
        "* Log-rank test\n",
        "<br>\n",
        "\n",
        "When describing the effect of categorical or quantitative variables on survival, we use:\n",
        "* Cox proportional hazards regression\n",
        "* Parametric survival models\n",
        "* Survival trees\n",
        "* Survival random forests\n",
        "\n",
        "\n"
      ]
    },
    {
      "cell_type": "markdown",
      "metadata": {
        "id": "xwWQSlZpOlai"
      },
      "source": [
        "### What is survival time?\n",
        "It is the amount of time until a subject/patient is alive.\n",
        "### What is an event?\n",
        "It could be anything that is the interest of the research study (e.g. death, disease occurence, disease recurrence, recovery, etc).\n",
        "### What is censoring?\n",
        "It occurs when a subject/patient did not have an event during the observation time. It is either nothing is observed or known about the subject/patient.\n",
        "<br> Types of censoring:\n",
        "* Right censoring (death of the subject/patient)\n",
        "* Left censoring (event can't be observed for some reason)\n",
        "* Interval censoring (available data on some intervals only)"
      ]
    },
    {
      "cell_type": "markdown",
      "metadata": {
        "id": "1OlpIa0rR6vU"
      },
      "source": [
        "## Import and install the necessary libraries\n",
        "(The installation will only be valid during your session in Google Colab. Once you close the tab/window or when you logged out of your account, the installation will automaticall be removed. You will have to re-run the installation on every session/access that you do.)"
      ]
    },
    {
      "cell_type": "code",
      "metadata": {
        "colab": {
          "base_uri": "https://localhost:8080/"
        },
        "id": "sDDSp3pXYTlx",
        "outputId": "14a0fce5-13ad-45cd-da4d-7484da7af2d8"
      },
      "source": [
        "#Install the library\n",
        "!pip install lifelines"
      ],
      "execution_count": 1,
      "outputs": [
        {
          "output_type": "stream",
          "text": [
            "Requirement already satisfied: lifelines in /usr/local/lib/python3.7/dist-packages (0.25.10)\n",
            "Requirement already satisfied: numpy<1.20.0,>=1.14.0 in /usr/local/lib/python3.7/dist-packages (from lifelines) (1.19.5)\n",
            "Requirement already satisfied: pandas>=0.23.0 in /usr/local/lib/python3.7/dist-packages (from lifelines) (1.1.5)\n",
            "Requirement already satisfied: formulaic<0.3,>=0.2.2 in /usr/local/lib/python3.7/dist-packages (from lifelines) (0.2.3)\n",
            "Requirement already satisfied: autograd>=1.3 in /usr/local/lib/python3.7/dist-packages (from lifelines) (1.3)\n",
            "Requirement already satisfied: matplotlib>=3.0 in /usr/local/lib/python3.7/dist-packages (from lifelines) (3.2.2)\n",
            "Requirement already satisfied: scipy>=1.2.0 in /usr/local/lib/python3.7/dist-packages (from lifelines) (1.4.1)\n",
            "Requirement already satisfied: autograd-gamma>=0.3 in /usr/local/lib/python3.7/dist-packages (from lifelines) (0.5.0)\n",
            "Requirement already satisfied: pytz>=2017.2 in /usr/local/lib/python3.7/dist-packages (from pandas>=0.23.0->lifelines) (2018.9)\n",
            "Requirement already satisfied: python-dateutil>=2.7.3 in /usr/local/lib/python3.7/dist-packages (from pandas>=0.23.0->lifelines) (2.8.1)\n",
            "Requirement already satisfied: wrapt in /usr/local/lib/python3.7/dist-packages (from formulaic<0.3,>=0.2.2->lifelines) (1.12.1)\n",
            "Requirement already satisfied: astor in /usr/local/lib/python3.7/dist-packages (from formulaic<0.3,>=0.2.2->lifelines) (0.8.1)\n",
            "Requirement already satisfied: interface-meta>=1.2 in /usr/local/lib/python3.7/dist-packages (from formulaic<0.3,>=0.2.2->lifelines) (1.2.3)\n",
            "Requirement already satisfied: future>=0.15.2 in /usr/local/lib/python3.7/dist-packages (from autograd>=1.3->lifelines) (0.16.0)\n",
            "Requirement already satisfied: cycler>=0.10 in /usr/local/lib/python3.7/dist-packages (from matplotlib>=3.0->lifelines) (0.10.0)\n",
            "Requirement already satisfied: kiwisolver>=1.0.1 in /usr/local/lib/python3.7/dist-packages (from matplotlib>=3.0->lifelines) (1.3.1)\n",
            "Requirement already satisfied: pyparsing!=2.0.4,!=2.1.2,!=2.1.6,>=2.0.1 in /usr/local/lib/python3.7/dist-packages (from matplotlib>=3.0->lifelines) (2.4.7)\n",
            "Requirement already satisfied: six>=1.5 in /usr/local/lib/python3.7/dist-packages (from python-dateutil>=2.7.3->pandas>=0.23.0->lifelines) (1.15.0)\n"
          ],
          "name": "stdout"
        }
      ]
    },
    {
      "cell_type": "code",
      "metadata": {
        "id": "xUyqiJK-R4jD"
      },
      "source": [
        "import pandas as pd\n",
        "import numpy as np\n",
        "import matplotlib.pyplot as plt\n",
        "from lifelines import KaplanMeierFitter\n",
        "from lifelines import NelsonAalenFitter\n",
        "from lifelines.statistics import logrank_test"
      ],
      "execution_count": 2,
      "outputs": []
    },
    {
      "cell_type": "markdown",
      "metadata": {
        "id": "2ngEU6uxTvKo"
      },
      "source": [
        "## Import the dataset"
      ]
    },
    {
      "cell_type": "code",
      "metadata": {
        "id": "BWUhxCd_YZxn",
        "colab": {
          "base_uri": "https://localhost:8080/",
          "height": 204
        },
        "outputId": "5b69f39d-7dd2-4b11-b7ef-8c14438213fd"
      },
      "source": [
        "pbc = pd.read_csv('primary biliary cirrhosis RCT.csv')\n",
        "pbc.head()"
      ],
      "execution_count": 3,
      "outputs": [
        {
          "output_type": "execute_result",
          "data": {
            "text/html": [
              "<div>\n",
              "<style scoped>\n",
              "    .dataframe tbody tr th:only-of-type {\n",
              "        vertical-align: middle;\n",
              "    }\n",
              "\n",
              "    .dataframe tbody tr th {\n",
              "        vertical-align: top;\n",
              "    }\n",
              "\n",
              "    .dataframe thead th {\n",
              "        text-align: right;\n",
              "    }\n",
              "</style>\n",
              "<table border=\"1\" class=\"dataframe\">\n",
              "  <thead>\n",
              "    <tr style=\"text-align: right;\">\n",
              "      <th></th>\n",
              "      <th>PatientID</th>\n",
              "      <th>Days</th>\n",
              "      <th>Status</th>\n",
              "      <th>Treatment</th>\n",
              "      <th>Age</th>\n",
              "      <th>Sex</th>\n",
              "      <th>Ascites</th>\n",
              "      <th>Hepatomegaly</th>\n",
              "      <th>SpiderAngiomata</th>\n",
              "      <th>Edema</th>\n",
              "      <th>Bilirubin</th>\n",
              "      <th>Cholesterol</th>\n",
              "      <th>Albumin</th>\n",
              "      <th>Copper</th>\n",
              "      <th>ALP</th>\n",
              "      <th>AST</th>\n",
              "      <th>Triglyceride</th>\n",
              "      <th>Platelet</th>\n",
              "      <th>Protime</th>\n",
              "      <th>HistologyStage</th>\n",
              "    </tr>\n",
              "  </thead>\n",
              "  <tbody>\n",
              "    <tr>\n",
              "      <th>0</th>\n",
              "      <td>1</td>\n",
              "      <td>400</td>\n",
              "      <td>0</td>\n",
              "      <td>penicillamine</td>\n",
              "      <td>58.77</td>\n",
              "      <td>f</td>\n",
              "      <td>yes</td>\n",
              "      <td>yes</td>\n",
              "      <td>yes</td>\n",
              "      <td>present</td>\n",
              "      <td>14.5</td>\n",
              "      <td>261.0</td>\n",
              "      <td>2.60</td>\n",
              "      <td>156.0</td>\n",
              "      <td>1718.0</td>\n",
              "      <td>137.95</td>\n",
              "      <td>172.0</td>\n",
              "      <td>190.0</td>\n",
              "      <td>12.2</td>\n",
              "      <td>4.0</td>\n",
              "    </tr>\n",
              "    <tr>\n",
              "      <th>1</th>\n",
              "      <td>2</td>\n",
              "      <td>4500</td>\n",
              "      <td>2</td>\n",
              "      <td>penicillamine</td>\n",
              "      <td>56.45</td>\n",
              "      <td>f</td>\n",
              "      <td>no</td>\n",
              "      <td>yes</td>\n",
              "      <td>yes</td>\n",
              "      <td>absent</td>\n",
              "      <td>1.1</td>\n",
              "      <td>302.0</td>\n",
              "      <td>4.14</td>\n",
              "      <td>54.0</td>\n",
              "      <td>7394.8</td>\n",
              "      <td>113.52</td>\n",
              "      <td>88.0</td>\n",
              "      <td>221.0</td>\n",
              "      <td>10.6</td>\n",
              "      <td>3.0</td>\n",
              "    </tr>\n",
              "    <tr>\n",
              "      <th>2</th>\n",
              "      <td>3</td>\n",
              "      <td>1012</td>\n",
              "      <td>0</td>\n",
              "      <td>penicillamine</td>\n",
              "      <td>70.07</td>\n",
              "      <td>m</td>\n",
              "      <td>no</td>\n",
              "      <td>no</td>\n",
              "      <td>no</td>\n",
              "      <td>diurese</td>\n",
              "      <td>1.4</td>\n",
              "      <td>176.0</td>\n",
              "      <td>3.48</td>\n",
              "      <td>210.0</td>\n",
              "      <td>516.0</td>\n",
              "      <td>96.10</td>\n",
              "      <td>55.0</td>\n",
              "      <td>151.0</td>\n",
              "      <td>12.0</td>\n",
              "      <td>4.0</td>\n",
              "    </tr>\n",
              "    <tr>\n",
              "      <th>3</th>\n",
              "      <td>4</td>\n",
              "      <td>1925</td>\n",
              "      <td>0</td>\n",
              "      <td>penicillamine</td>\n",
              "      <td>54.74</td>\n",
              "      <td>f</td>\n",
              "      <td>no</td>\n",
              "      <td>yes</td>\n",
              "      <td>yes</td>\n",
              "      <td>diurese</td>\n",
              "      <td>1.8</td>\n",
              "      <td>244.0</td>\n",
              "      <td>2.54</td>\n",
              "      <td>64.0</td>\n",
              "      <td>6121.8</td>\n",
              "      <td>60.63</td>\n",
              "      <td>92.0</td>\n",
              "      <td>183.0</td>\n",
              "      <td>10.3</td>\n",
              "      <td>4.0</td>\n",
              "    </tr>\n",
              "    <tr>\n",
              "      <th>4</th>\n",
              "      <td>5</td>\n",
              "      <td>1504</td>\n",
              "      <td>1</td>\n",
              "      <td>placebo</td>\n",
              "      <td>38.11</td>\n",
              "      <td>f</td>\n",
              "      <td>no</td>\n",
              "      <td>yes</td>\n",
              "      <td>yes</td>\n",
              "      <td>absent</td>\n",
              "      <td>3.4</td>\n",
              "      <td>279.0</td>\n",
              "      <td>3.53</td>\n",
              "      <td>143.0</td>\n",
              "      <td>671.0</td>\n",
              "      <td>113.15</td>\n",
              "      <td>72.0</td>\n",
              "      <td>136.0</td>\n",
              "      <td>10.9</td>\n",
              "      <td>3.0</td>\n",
              "    </tr>\n",
              "  </tbody>\n",
              "</table>\n",
              "</div>"
            ],
            "text/plain": [
              "   PatientID  Days  Status  ... Platelet  Protime HistologyStage\n",
              "0          1   400       0  ...    190.0     12.2            4.0\n",
              "1          2  4500       2  ...    221.0     10.6            3.0\n",
              "2          3  1012       0  ...    151.0     12.0            4.0\n",
              "3          4  1925       0  ...    183.0     10.3            4.0\n",
              "4          5  1504       1  ...    136.0     10.9            3.0\n",
              "\n",
              "[5 rows x 20 columns]"
            ]
          },
          "metadata": {
            "tags": []
          },
          "execution_count": 3
        }
      ]
    },
    {
      "cell_type": "code",
      "metadata": {
        "colab": {
          "base_uri": "https://localhost:8080/"
        },
        "id": "A5iwjj0UUxcT",
        "outputId": "7f67b93f-7da0-4d08-b199-ebb7ab139e8f"
      },
      "source": [
        "# How many patients are enrolled in the study?\n",
        "\n",
        "pbc['PatientID'].count()"
      ],
      "execution_count": 4,
      "outputs": [
        {
          "output_type": "execute_result",
          "data": {
            "text/plain": [
              "418"
            ]
          },
          "metadata": {
            "tags": []
          },
          "execution_count": 4
        }
      ]
    },
    {
      "cell_type": "code",
      "metadata": {
        "colab": {
          "base_uri": "https://localhost:8080/"
        },
        "id": "FpiNzcOjUy0Z",
        "outputId": "bd0f5596-427b-4fd6-865b-a4978684d9fb"
      },
      "source": [
        "# What is the average survival time of the patient with primary biliary cirrhosis?\n",
        "\n",
        "pbc['Days'].mean()"
      ],
      "execution_count": 5,
      "outputs": [
        {
          "output_type": "execute_result",
          "data": {
            "text/plain": [
              "1917.7822966507176"
            ]
          },
          "metadata": {
            "tags": []
          },
          "execution_count": 5
        }
      ]
    },
    {
      "cell_type": "markdown",
      "metadata": {
        "id": "t435sfglpyuG"
      },
      "source": [
        "## Kaplan-Meier curve"
      ]
    },
    {
      "cell_type": "code",
      "metadata": {
        "id": "-KkJ0xvmYsSL"
      },
      "source": [
        "# Assign Kaplan-Meier fitter function as an object\n",
        "\n",
        "kmf = KaplanMeierFitter()"
      ],
      "execution_count": 6,
      "outputs": []
    },
    {
      "cell_type": "code",
      "metadata": {
        "colab": {
          "base_uri": "https://localhost:8080/"
        },
        "id": "U7xDlQofZFiw",
        "outputId": "f4874d2f-33b5-42db-d931-b830d059ad04"
      },
      "source": [
        "# We fit our dataset\n",
        "\n",
        "kmf.fit(durations = pbc['Days'], event_observed=pbc['Status'])"
      ],
      "execution_count": 7,
      "outputs": [
        {
          "output_type": "execute_result",
          "data": {
            "text/plain": [
              "<lifelines.KaplanMeierFitter:\"KM_estimate\", fitted with 418 total observations, 161 right-censored observations>"
            ]
          },
          "metadata": {
            "tags": []
          },
          "execution_count": 7
        }
      ]
    },
    {
      "cell_type": "code",
      "metadata": {
        "id": "BPYbj7sT7VvR",
        "colab": {
          "base_uri": "https://localhost:8080/",
          "height": 450
        },
        "outputId": "fe27d516-5443-4b32-f970-a0395e14ce4a"
      },
      "source": [
        "# Create the event table\n",
        "\n",
        "kmf.event_table"
      ],
      "execution_count": 8,
      "outputs": [
        {
          "output_type": "execute_result",
          "data": {
            "text/html": [
              "<div>\n",
              "<style scoped>\n",
              "    .dataframe tbody tr th:only-of-type {\n",
              "        vertical-align: middle;\n",
              "    }\n",
              "\n",
              "    .dataframe tbody tr th {\n",
              "        vertical-align: top;\n",
              "    }\n",
              "\n",
              "    .dataframe thead th {\n",
              "        text-align: right;\n",
              "    }\n",
              "</style>\n",
              "<table border=\"1\" class=\"dataframe\">\n",
              "  <thead>\n",
              "    <tr style=\"text-align: right;\">\n",
              "      <th></th>\n",
              "      <th>removed</th>\n",
              "      <th>observed</th>\n",
              "      <th>censored</th>\n",
              "      <th>entrance</th>\n",
              "      <th>at_risk</th>\n",
              "    </tr>\n",
              "    <tr>\n",
              "      <th>event_at</th>\n",
              "      <th></th>\n",
              "      <th></th>\n",
              "      <th></th>\n",
              "      <th></th>\n",
              "      <th></th>\n",
              "    </tr>\n",
              "  </thead>\n",
              "  <tbody>\n",
              "    <tr>\n",
              "      <th>0.0</th>\n",
              "      <td>0</td>\n",
              "      <td>0</td>\n",
              "      <td>0</td>\n",
              "      <td>418</td>\n",
              "      <td>418</td>\n",
              "    </tr>\n",
              "    <tr>\n",
              "      <th>41.0</th>\n",
              "      <td>2</td>\n",
              "      <td>0</td>\n",
              "      <td>2</td>\n",
              "      <td>0</td>\n",
              "      <td>418</td>\n",
              "    </tr>\n",
              "    <tr>\n",
              "      <th>43.0</th>\n",
              "      <td>1</td>\n",
              "      <td>0</td>\n",
              "      <td>1</td>\n",
              "      <td>0</td>\n",
              "      <td>416</td>\n",
              "    </tr>\n",
              "    <tr>\n",
              "      <th>51.0</th>\n",
              "      <td>1</td>\n",
              "      <td>0</td>\n",
              "      <td>1</td>\n",
              "      <td>0</td>\n",
              "      <td>415</td>\n",
              "    </tr>\n",
              "    <tr>\n",
              "      <th>71.0</th>\n",
              "      <td>1</td>\n",
              "      <td>0</td>\n",
              "      <td>1</td>\n",
              "      <td>0</td>\n",
              "      <td>414</td>\n",
              "    </tr>\n",
              "    <tr>\n",
              "      <th>...</th>\n",
              "      <td>...</td>\n",
              "      <td>...</td>\n",
              "      <td>...</td>\n",
              "      <td>...</td>\n",
              "      <td>...</td>\n",
              "    </tr>\n",
              "    <tr>\n",
              "      <th>4500.0</th>\n",
              "      <td>1</td>\n",
              "      <td>1</td>\n",
              "      <td>0</td>\n",
              "      <td>0</td>\n",
              "      <td>5</td>\n",
              "    </tr>\n",
              "    <tr>\n",
              "      <th>4509.0</th>\n",
              "      <td>1</td>\n",
              "      <td>1</td>\n",
              "      <td>0</td>\n",
              "      <td>0</td>\n",
              "      <td>4</td>\n",
              "    </tr>\n",
              "    <tr>\n",
              "      <th>4523.0</th>\n",
              "      <td>1</td>\n",
              "      <td>1</td>\n",
              "      <td>0</td>\n",
              "      <td>0</td>\n",
              "      <td>3</td>\n",
              "    </tr>\n",
              "    <tr>\n",
              "      <th>4556.0</th>\n",
              "      <td>1</td>\n",
              "      <td>1</td>\n",
              "      <td>0</td>\n",
              "      <td>0</td>\n",
              "      <td>2</td>\n",
              "    </tr>\n",
              "    <tr>\n",
              "      <th>4795.0</th>\n",
              "      <td>1</td>\n",
              "      <td>1</td>\n",
              "      <td>0</td>\n",
              "      <td>0</td>\n",
              "      <td>1</td>\n",
              "    </tr>\n",
              "  </tbody>\n",
              "</table>\n",
              "<p>400 rows × 5 columns</p>\n",
              "</div>"
            ],
            "text/plain": [
              "          removed  observed  censored  entrance  at_risk\n",
              "event_at                                                \n",
              "0.0             0         0         0       418      418\n",
              "41.0            2         0         2         0      418\n",
              "43.0            1         0         1         0      416\n",
              "51.0            1         0         1         0      415\n",
              "71.0            1         0         1         0      414\n",
              "...           ...       ...       ...       ...      ...\n",
              "4500.0          1         1         0         0        5\n",
              "4509.0          1         1         0         0        4\n",
              "4523.0          1         1         0         0        3\n",
              "4556.0          1         1         0         0        2\n",
              "4795.0          1         1         0         0        1\n",
              "\n",
              "[400 rows x 5 columns]"
            ]
          },
          "metadata": {
            "tags": []
          },
          "execution_count": 8
        }
      ]
    },
    {
      "cell_type": "code",
      "metadata": {
        "colab": {
          "base_uri": "https://localhost:8080/"
        },
        "id": "neiN-6dy9b__",
        "outputId": "87d2e253-408b-460c-c36a-ca46d8f02a34"
      },
      "source": [
        "# What is the probability of survival in 5 years?\n",
        "\n",
        "kmf.predict(1825)"
      ],
      "execution_count": 9,
      "outputs": [
        {
          "output_type": "execute_result",
          "data": {
            "text/plain": [
              "0.670553459328332"
            ]
          },
          "metadata": {
            "tags": []
          },
          "execution_count": 9
        }
      ]
    },
    {
      "cell_type": "code",
      "metadata": {
        "colab": {
          "base_uri": "https://localhost:8080/"
        },
        "id": "4ZA7o4Tz9q-0",
        "outputId": "0ce099ed-0681-438b-d62b-f69d294f7506"
      },
      "source": [
        "# What is the probability of survival in 10 years?\n",
        "\n",
        "kmf.predict(3650)"
      ],
      "execution_count": 10,
      "outputs": [
        {
          "output_type": "execute_result",
          "data": {
            "text/plain": [
              "0.18946959952425133"
            ]
          },
          "metadata": {
            "tags": []
          },
          "execution_count": 10
        }
      ]
    },
    {
      "cell_type": "code",
      "metadata": {
        "id": "Q4ueFnGP97e1",
        "colab": {
          "base_uri": "https://localhost:8080/",
          "height": 450
        },
        "outputId": "6c0b3379-4585-46d8-f537-ff2f74c53cc8"
      },
      "source": [
        "# Get the survival probability for the whole timeline\n",
        "\n",
        "kmf.survival_function_"
      ],
      "execution_count": 11,
      "outputs": [
        {
          "output_type": "execute_result",
          "data": {
            "text/html": [
              "<div>\n",
              "<style scoped>\n",
              "    .dataframe tbody tr th:only-of-type {\n",
              "        vertical-align: middle;\n",
              "    }\n",
              "\n",
              "    .dataframe tbody tr th {\n",
              "        vertical-align: top;\n",
              "    }\n",
              "\n",
              "    .dataframe thead th {\n",
              "        text-align: right;\n",
              "    }\n",
              "</style>\n",
              "<table border=\"1\" class=\"dataframe\">\n",
              "  <thead>\n",
              "    <tr style=\"text-align: right;\">\n",
              "      <th></th>\n",
              "      <th>KM_estimate</th>\n",
              "    </tr>\n",
              "    <tr>\n",
              "      <th>timeline</th>\n",
              "      <th></th>\n",
              "    </tr>\n",
              "  </thead>\n",
              "  <tbody>\n",
              "    <tr>\n",
              "      <th>0.0</th>\n",
              "      <td>1.000000</td>\n",
              "    </tr>\n",
              "    <tr>\n",
              "      <th>41.0</th>\n",
              "      <td>1.000000</td>\n",
              "    </tr>\n",
              "    <tr>\n",
              "      <th>43.0</th>\n",
              "      <td>1.000000</td>\n",
              "    </tr>\n",
              "    <tr>\n",
              "      <th>51.0</th>\n",
              "      <td>1.000000</td>\n",
              "    </tr>\n",
              "    <tr>\n",
              "      <th>71.0</th>\n",
              "      <td>1.000000</td>\n",
              "    </tr>\n",
              "    <tr>\n",
              "      <th>...</th>\n",
              "      <td>...</td>\n",
              "    </tr>\n",
              "    <tr>\n",
              "      <th>4500.0</th>\n",
              "      <td>0.027093</td>\n",
              "    </tr>\n",
              "    <tr>\n",
              "      <th>4509.0</th>\n",
              "      <td>0.020320</td>\n",
              "    </tr>\n",
              "    <tr>\n",
              "      <th>4523.0</th>\n",
              "      <td>0.013547</td>\n",
              "    </tr>\n",
              "    <tr>\n",
              "      <th>4556.0</th>\n",
              "      <td>0.006773</td>\n",
              "    </tr>\n",
              "    <tr>\n",
              "      <th>4795.0</th>\n",
              "      <td>0.000000</td>\n",
              "    </tr>\n",
              "  </tbody>\n",
              "</table>\n",
              "<p>400 rows × 1 columns</p>\n",
              "</div>"
            ],
            "text/plain": [
              "          KM_estimate\n",
              "timeline             \n",
              "0.0          1.000000\n",
              "41.0         1.000000\n",
              "43.0         1.000000\n",
              "51.0         1.000000\n",
              "71.0         1.000000\n",
              "...               ...\n",
              "4500.0       0.027093\n",
              "4509.0       0.020320\n",
              "4523.0       0.013547\n",
              "4556.0       0.006773\n",
              "4795.0       0.000000\n",
              "\n",
              "[400 rows x 1 columns]"
            ]
          },
          "metadata": {
            "tags": []
          },
          "execution_count": 11
        }
      ]
    },
    {
      "cell_type": "code",
      "metadata": {
        "id": "pVZwq_sL_KbK",
        "colab": {
          "base_uri": "https://localhost:8080/",
          "height": 419
        },
        "outputId": "341dd021-89b8-47bc-d771-e2365e6770c1"
      },
      "source": [
        "# Determine the confidence interval\n",
        "\n",
        "kmf.confidence_interval_"
      ],
      "execution_count": 12,
      "outputs": [
        {
          "output_type": "execute_result",
          "data": {
            "text/html": [
              "<div>\n",
              "<style scoped>\n",
              "    .dataframe tbody tr th:only-of-type {\n",
              "        vertical-align: middle;\n",
              "    }\n",
              "\n",
              "    .dataframe tbody tr th {\n",
              "        vertical-align: top;\n",
              "    }\n",
              "\n",
              "    .dataframe thead th {\n",
              "        text-align: right;\n",
              "    }\n",
              "</style>\n",
              "<table border=\"1\" class=\"dataframe\">\n",
              "  <thead>\n",
              "    <tr style=\"text-align: right;\">\n",
              "      <th></th>\n",
              "      <th>KM_estimate_lower_0.95</th>\n",
              "      <th>KM_estimate_upper_0.95</th>\n",
              "    </tr>\n",
              "  </thead>\n",
              "  <tbody>\n",
              "    <tr>\n",
              "      <th>0.0</th>\n",
              "      <td>1.000000</td>\n",
              "      <td>1.000000</td>\n",
              "    </tr>\n",
              "    <tr>\n",
              "      <th>41.0</th>\n",
              "      <td>1.000000</td>\n",
              "      <td>1.000000</td>\n",
              "    </tr>\n",
              "    <tr>\n",
              "      <th>43.0</th>\n",
              "      <td>1.000000</td>\n",
              "      <td>1.000000</td>\n",
              "    </tr>\n",
              "    <tr>\n",
              "      <th>51.0</th>\n",
              "      <td>1.000000</td>\n",
              "      <td>1.000000</td>\n",
              "    </tr>\n",
              "    <tr>\n",
              "      <th>71.0</th>\n",
              "      <td>1.000000</td>\n",
              "      <td>1.000000</td>\n",
              "    </tr>\n",
              "    <tr>\n",
              "      <th>...</th>\n",
              "      <td>...</td>\n",
              "      <td>...</td>\n",
              "    </tr>\n",
              "    <tr>\n",
              "      <th>4500.0</th>\n",
              "      <td>0.009294</td>\n",
              "      <td>0.061837</td>\n",
              "    </tr>\n",
              "    <tr>\n",
              "      <th>4509.0</th>\n",
              "      <td>0.005742</td>\n",
              "      <td>0.052765</td>\n",
              "    </tr>\n",
              "    <tr>\n",
              "      <th>4523.0</th>\n",
              "      <td>0.002752</td>\n",
              "      <td>0.043340</td>\n",
              "    </tr>\n",
              "    <tr>\n",
              "      <th>4556.0</th>\n",
              "      <td>0.000634</td>\n",
              "      <td>0.033778</td>\n",
              "    </tr>\n",
              "    <tr>\n",
              "      <th>4795.0</th>\n",
              "      <td>0.000000</td>\n",
              "      <td>0.000000</td>\n",
              "    </tr>\n",
              "  </tbody>\n",
              "</table>\n",
              "<p>400 rows × 2 columns</p>\n",
              "</div>"
            ],
            "text/plain": [
              "        KM_estimate_lower_0.95  KM_estimate_upper_0.95\n",
              "0.0                   1.000000                1.000000\n",
              "41.0                  1.000000                1.000000\n",
              "43.0                  1.000000                1.000000\n",
              "51.0                  1.000000                1.000000\n",
              "71.0                  1.000000                1.000000\n",
              "...                        ...                     ...\n",
              "4500.0                0.009294                0.061837\n",
              "4509.0                0.005742                0.052765\n",
              "4523.0                0.002752                0.043340\n",
              "4556.0                0.000634                0.033778\n",
              "4795.0                0.000000                0.000000\n",
              "\n",
              "[400 rows x 2 columns]"
            ]
          },
          "metadata": {
            "tags": []
          },
          "execution_count": 12
        }
      ]
    },
    {
      "cell_type": "code",
      "metadata": {
        "colab": {
          "base_uri": "https://localhost:8080/"
        },
        "id": "Wmyx2OyA-hwm",
        "outputId": "69f7f66c-365f-474d-97fd-ac0f7972ae64"
      },
      "source": [
        "# How many years will it take when there is 50% of the patients that died?\n",
        "\n",
        "(kmf.median_survival_time_)/365"
      ],
      "execution_count": 13,
      "outputs": [
        {
          "output_type": "execute_result",
          "data": {
            "text/plain": [
              "6.47945205479452"
            ]
          },
          "metadata": {
            "tags": []
          },
          "execution_count": 13
        }
      ]
    },
    {
      "cell_type": "markdown",
      "metadata": {
        "id": "fNPVDE5PbgX4"
      },
      "source": [
        "## Plot the Kaplan-Meier curve"
      ]
    },
    {
      "cell_type": "code",
      "metadata": {
        "colab": {
          "base_uri": "https://localhost:8080/",
          "height": 295
        },
        "id": "_ybPB8UF-nje",
        "outputId": "036a0d2d-c23d-4a53-b81f-35eb6cbe47d0"
      },
      "source": [
        "kmf.plot()\n",
        "\n",
        "plt.title('Survival of patients with primary biliary cirrhosis')\n",
        "plt.ylabel('Probability of Survival')\n",
        "plt.xlabel('Days')\n",
        "plt.show()"
      ],
      "execution_count": 14,
      "outputs": [
        {
          "output_type": "display_data",
          "data": {
            "image/png": "[encoded data removed]",
            "text/plain": [
              "<Figure size 432x288 with 1 Axes>"
            ]
          },
          "metadata": {
            "tags": [],
            "needs_background": "light"
          }
        }
      ]
    },
    {
      "cell_type": "markdown",
      "metadata": {
        "id": "cf2YDlf2vJb_"
      },
      "source": [
        "## Cumulative density function"
      ]
    },
    {
      "cell_type": "code",
      "metadata": {
        "id": "zHrRR7rt_atA",
        "colab": {
          "base_uri": "https://localhost:8080/",
          "height": 450
        },
        "outputId": "b9df47c8-5007-443a-80cf-44516026a24a"
      },
      "source": [
        "# What is the probability of death on all time interval?\n",
        "\n",
        "kmf.cumulative_density_"
      ],
      "execution_count": 15,
      "outputs": [
        {
          "output_type": "execute_result",
          "data": {
            "text/html": [
              "<div>\n",
              "<style scoped>\n",
              "    .dataframe tbody tr th:only-of-type {\n",
              "        vertical-align: middle;\n",
              "    }\n",
              "\n",
              "    .dataframe tbody tr th {\n",
              "        vertical-align: top;\n",
              "    }\n",
              "\n",
              "    .dataframe thead th {\n",
              "        text-align: right;\n",
              "    }\n",
              "</style>\n",
              "<table border=\"1\" class=\"dataframe\">\n",
              "  <thead>\n",
              "    <tr style=\"text-align: right;\">\n",
              "      <th></th>\n",
              "      <th>KM_estimate</th>\n",
              "    </tr>\n",
              "    <tr>\n",
              "      <th>timeline</th>\n",
              "      <th></th>\n",
              "    </tr>\n",
              "  </thead>\n",
              "  <tbody>\n",
              "    <tr>\n",
              "      <th>0.0</th>\n",
              "      <td>0.000000</td>\n",
              "    </tr>\n",
              "    <tr>\n",
              "      <th>41.0</th>\n",
              "      <td>0.000000</td>\n",
              "    </tr>\n",
              "    <tr>\n",
              "      <th>43.0</th>\n",
              "      <td>0.000000</td>\n",
              "    </tr>\n",
              "    <tr>\n",
              "      <th>51.0</th>\n",
              "      <td>0.000000</td>\n",
              "    </tr>\n",
              "    <tr>\n",
              "      <th>71.0</th>\n",
              "      <td>0.000000</td>\n",
              "    </tr>\n",
              "    <tr>\n",
              "      <th>...</th>\n",
              "      <td>...</td>\n",
              "    </tr>\n",
              "    <tr>\n",
              "      <th>4500.0</th>\n",
              "      <td>0.972907</td>\n",
              "    </tr>\n",
              "    <tr>\n",
              "      <th>4509.0</th>\n",
              "      <td>0.979680</td>\n",
              "    </tr>\n",
              "    <tr>\n",
              "      <th>4523.0</th>\n",
              "      <td>0.986453</td>\n",
              "    </tr>\n",
              "    <tr>\n",
              "      <th>4556.0</th>\n",
              "      <td>0.993227</td>\n",
              "    </tr>\n",
              "    <tr>\n",
              "      <th>4795.0</th>\n",
              "      <td>1.000000</td>\n",
              "    </tr>\n",
              "  </tbody>\n",
              "</table>\n",
              "<p>400 rows × 1 columns</p>\n",
              "</div>"
            ],
            "text/plain": [
              "          KM_estimate\n",
              "timeline             \n",
              "0.0          0.000000\n",
              "41.0         0.000000\n",
              "43.0         0.000000\n",
              "51.0         0.000000\n",
              "71.0         0.000000\n",
              "...               ...\n",
              "4500.0       0.972907\n",
              "4509.0       0.979680\n",
              "4523.0       0.986453\n",
              "4556.0       0.993227\n",
              "4795.0       1.000000\n",
              "\n",
              "[400 rows x 1 columns]"
            ]
          },
          "metadata": {
            "tags": []
          },
          "execution_count": 15
        }
      ]
    },
    {
      "cell_type": "markdown",
      "metadata": {
        "id": "I3uPDts4bp4a"
      },
      "source": [
        "## Plot the cumulative density"
      ]
    },
    {
      "cell_type": "code",
      "metadata": {
        "colab": {
          "base_uri": "https://localhost:8080/",
          "height": 295
        },
        "id": "0F9zbIxa_i6o",
        "outputId": "09d9768c-4297-4946-ae61-8080642cfbec"
      },
      "source": [
        "kmf.plot_cumulative_density()\n",
        "\n",
        "plt.title('Probability of dying from primary biliary cirrhosis')\n",
        "plt.ylabel('Probability of Death')\n",
        "plt.xlabel('Days')\n",
        "plt.show()"
      ],
      "execution_count": 16,
      "outputs": [
        {
          "output_type": "display_data",
          "data": {
            "image/png": "[encoded data removed]",
            "text/plain": [
              "<Figure size 432x288 with 1 Axes>"
            ]
          },
          "metadata": {
            "tags": [],
            "needs_background": "light"
          }
        }
      ]
    },
    {
      "cell_type": "markdown",
      "metadata": {
        "id": "60U564lIvN7H"
      },
      "source": [
        "## Hazard function (Nelson-Aalen curve)"
      ]
    },
    {
      "cell_type": "code",
      "metadata": {
        "colab": {
          "base_uri": "https://localhost:8080/"
        },
        "id": "euPj3kPh_m0V",
        "outputId": "209a93bf-fb54-446b-e6cd-2d4a3d4cfa93"
      },
      "source": [
        "# Assign the Nelson-Aalen fitter as an object\n",
        "\n",
        "naf = NelsonAalenFitter()\n",
        "\n",
        "# Fit the dataset\n",
        "\n",
        "naf.fit(pbc['Days'], event_observed = pbc['Status'])"
      ],
      "execution_count": 17,
      "outputs": [
        {
          "output_type": "execute_result",
          "data": {
            "text/plain": [
              "<lifelines.NelsonAalenFitter:\"NA_estimate\", fitted with 418 total observations, 161 right-censored observations>"
            ]
          },
          "metadata": {
            "tags": []
          },
          "execution_count": 17
        }
      ]
    },
    {
      "cell_type": "code",
      "metadata": {
        "id": "d-FCpVGmAd6c",
        "colab": {
          "base_uri": "https://localhost:8080/",
          "height": 450
        },
        "outputId": "86573e4c-98e3-4d70-cae3-0a147c9302df"
      },
      "source": [
        "# What is the risk of dying from primary biliary cirrhosis?\n",
        "\n",
        "naf.cumulative_hazard_"
      ],
      "execution_count": 18,
      "outputs": [
        {
          "output_type": "execute_result",
          "data": {
            "text/html": [
              "<div>\n",
              "<style scoped>\n",
              "    .dataframe tbody tr th:only-of-type {\n",
              "        vertical-align: middle;\n",
              "    }\n",
              "\n",
              "    .dataframe tbody tr th {\n",
              "        vertical-align: top;\n",
              "    }\n",
              "\n",
              "    .dataframe thead th {\n",
              "        text-align: right;\n",
              "    }\n",
              "</style>\n",
              "<table border=\"1\" class=\"dataframe\">\n",
              "  <thead>\n",
              "    <tr style=\"text-align: right;\">\n",
              "      <th></th>\n",
              "      <th>NA_estimate</th>\n",
              "    </tr>\n",
              "    <tr>\n",
              "      <th>timeline</th>\n",
              "      <th></th>\n",
              "    </tr>\n",
              "  </thead>\n",
              "  <tbody>\n",
              "    <tr>\n",
              "      <th>0.0</th>\n",
              "      <td>0.000000</td>\n",
              "    </tr>\n",
              "    <tr>\n",
              "      <th>41.0</th>\n",
              "      <td>0.000000</td>\n",
              "    </tr>\n",
              "    <tr>\n",
              "      <th>43.0</th>\n",
              "      <td>0.000000</td>\n",
              "    </tr>\n",
              "    <tr>\n",
              "      <th>51.0</th>\n",
              "      <td>0.000000</td>\n",
              "    </tr>\n",
              "    <tr>\n",
              "      <th>71.0</th>\n",
              "      <td>0.000000</td>\n",
              "    </tr>\n",
              "    <tr>\n",
              "      <th>...</th>\n",
              "      <td>...</td>\n",
              "    </tr>\n",
              "    <tr>\n",
              "      <th>4500.0</th>\n",
              "      <td>3.499260</td>\n",
              "    </tr>\n",
              "    <tr>\n",
              "      <th>4509.0</th>\n",
              "      <td>3.749260</td>\n",
              "    </tr>\n",
              "    <tr>\n",
              "      <th>4523.0</th>\n",
              "      <td>4.082594</td>\n",
              "    </tr>\n",
              "    <tr>\n",
              "      <th>4556.0</th>\n",
              "      <td>4.582594</td>\n",
              "    </tr>\n",
              "    <tr>\n",
              "      <th>4795.0</th>\n",
              "      <td>5.582594</td>\n",
              "    </tr>\n",
              "  </tbody>\n",
              "</table>\n",
              "<p>400 rows × 1 columns</p>\n",
              "</div>"
            ],
            "text/plain": [
              "          NA_estimate\n",
              "timeline             \n",
              "0.0          0.000000\n",
              "41.0         0.000000\n",
              "43.0         0.000000\n",
              "51.0         0.000000\n",
              "71.0         0.000000\n",
              "...               ...\n",
              "4500.0       3.499260\n",
              "4509.0       3.749260\n",
              "4523.0       4.082594\n",
              "4556.0       4.582594\n",
              "4795.0       5.582594\n",
              "\n",
              "[400 rows x 1 columns]"
            ]
          },
          "metadata": {
            "tags": []
          },
          "execution_count": 18
        }
      ]
    },
    {
      "cell_type": "code",
      "metadata": {
        "colab": {
          "base_uri": "https://localhost:8080/"
        },
        "id": "ojmZG-NDxnDa",
        "outputId": "b31c4d47-bde3-46d3-925f-efa6c6ec0e4b"
      },
      "source": [
        "# What is the risk of dying from primary biliary cirrhosis in 5 years?\n",
        "\n",
        "naf.predict(1825)"
      ],
      "execution_count": 19,
      "outputs": [
        {
          "output_type": "execute_result",
          "data": {
            "text/plain": [
              "0.39887719046584724"
            ]
          },
          "metadata": {
            "tags": []
          },
          "execution_count": 19
        }
      ]
    },
    {
      "cell_type": "code",
      "metadata": {
        "colab": {
          "base_uri": "https://localhost:8080/"
        },
        "id": "JbSMgs8DyG1t",
        "outputId": "f3f32722-6682-4900-dfd8-de64c059108b"
      },
      "source": [
        "# What is the risk of dying from primary biliary cirrhosis in 10 years?\n",
        "\n",
        "naf.predict(3650)"
      ],
      "execution_count": 20,
      "outputs": [
        {
          "output_type": "execute_result",
          "data": {
            "text/plain": [
              "1.6544612523890345"
            ]
          },
          "metadata": {
            "tags": []
          },
          "execution_count": 20
        }
      ]
    },
    {
      "cell_type": "markdown",
      "metadata": {
        "id": "x8kcNomqbvI5"
      },
      "source": [
        "## Plot the Nelson-Aalen curve"
      ]
    },
    {
      "cell_type": "code",
      "metadata": {
        "colab": {
          "base_uri": "https://localhost:8080/",
          "height": 295
        },
        "id": "x8Yba0bKAhyR",
        "outputId": "3849e3cc-e452-47da-da9e-14c38aac13f6"
      },
      "source": [
        "naf.plot_cumulative_hazard()\n",
        "\n",
        "plt.title('Risk of patient dying from primary biliary cirrhosis')\n",
        "plt.ylabel('Risk of Death')\n",
        "plt.xlabel('Days')\n",
        "plt.show()"
      ],
      "execution_count": 21,
      "outputs": [
        {
          "output_type": "display_data",
          "data": {
            "image/png": "[encoded data removed]",
            "text/plain": [
              "<Figure size 432x288 with 1 Axes>"
            ]
          },
          "metadata": {
            "tags": [],
            "needs_background": "light"
          }
        }
      ]
    },
    {
      "cell_type": "markdown",
      "metadata": {
        "id": "OwBvLph00DNq"
      },
      "source": [
        "## Kaplan-Meier on different groups"
      ]
    },
    {
      "cell_type": "code",
      "metadata": {
        "id": "LvTGGDBSAr-v"
      },
      "source": [
        "# Create separate object for each sex\n",
        "\n",
        "kmf_male = KaplanMeierFitter()\n",
        "kmf_female = KaplanMeierFitter()"
      ],
      "execution_count": 22,
      "outputs": []
    },
    {
      "cell_type": "code",
      "metadata": {
        "id": "SwWCRoUj1JQ4"
      },
      "source": [
        "# Create a subset for each sex\n",
        "\n",
        "male = pbc.loc[pbc['Sex'] == 'm']\n",
        "female = pbc.loc[pbc['Sex'] == 'f']"
      ],
      "execution_count": 23,
      "outputs": []
    },
    {
      "cell_type": "code",
      "metadata": {
        "colab": {
          "base_uri": "https://localhost:8080/"
        },
        "id": "GeU1im-r1Xiz",
        "outputId": "381b0b6a-8de7-444e-80d5-ed9ace8437cb"
      },
      "source": [
        "# Fit the subset and put a correct label for each subset\n",
        "\n",
        "kmf_male.fit(durations = male['Days'], event_observed = male['Status'], label='Male')\n",
        "kmf_female.fit(durations = female['Days'], event_observed = female['Status'], label='Female')"
      ],
      "execution_count": 24,
      "outputs": [
        {
          "output_type": "execute_result",
          "data": {
            "text/plain": [
              "<lifelines.KaplanMeierFitter:\"Female\", fitted with 374 total observations, 137 right-censored observations>"
            ]
          },
          "metadata": {
            "tags": []
          },
          "execution_count": 24
        }
      ]
    },
    {
      "cell_type": "code",
      "metadata": {
        "id": "Vtp5oIAG3flg",
        "colab": {
          "base_uri": "https://localhost:8080/",
          "height": 1000
        },
        "outputId": "27075991-d768-44a6-b4d4-af1a5a0650ed"
      },
      "source": [
        "# Show the event table for male\n",
        "\n",
        "kmf_male.event_table"
      ],
      "execution_count": 25,
      "outputs": [
        {
          "output_type": "execute_result",
          "data": {
            "text/html": [
              "<div>\n",
              "<style scoped>\n",
              "    .dataframe tbody tr th:only-of-type {\n",
              "        vertical-align: middle;\n",
              "    }\n",
              "\n",
              "    .dataframe tbody tr th {\n",
              "        vertical-align: top;\n",
              "    }\n",
              "\n",
              "    .dataframe thead th {\n",
              "        text-align: right;\n",
              "    }\n",
              "</style>\n",
              "<table border=\"1\" class=\"dataframe\">\n",
              "  <thead>\n",
              "    <tr style=\"text-align: right;\">\n",
              "      <th></th>\n",
              "      <th>removed</th>\n",
              "      <th>observed</th>\n",
              "      <th>censored</th>\n",
              "      <th>entrance</th>\n",
              "      <th>at_risk</th>\n",
              "    </tr>\n",
              "    <tr>\n",
              "      <th>event_at</th>\n",
              "      <th></th>\n",
              "      <th></th>\n",
              "      <th></th>\n",
              "      <th></th>\n",
              "      <th></th>\n",
              "    </tr>\n",
              "  </thead>\n",
              "  <tbody>\n",
              "    <tr>\n",
              "      <th>0.0</th>\n",
              "      <td>0</td>\n",
              "      <td>0</td>\n",
              "      <td>0</td>\n",
              "      <td>44</td>\n",
              "      <td>44</td>\n",
              "    </tr>\n",
              "    <tr>\n",
              "      <th>140.0</th>\n",
              "      <td>1</td>\n",
              "      <td>0</td>\n",
              "      <td>1</td>\n",
              "      <td>0</td>\n",
              "      <td>44</td>\n",
              "    </tr>\n",
              "    <tr>\n",
              "      <th>191.0</th>\n",
              "      <td>1</td>\n",
              "      <td>0</td>\n",
              "      <td>1</td>\n",
              "      <td>0</td>\n",
              "      <td>43</td>\n",
              "    </tr>\n",
              "    <tr>\n",
              "      <th>533.0</th>\n",
              "      <td>1</td>\n",
              "      <td>1</td>\n",
              "      <td>0</td>\n",
              "      <td>0</td>\n",
              "      <td>42</td>\n",
              "    </tr>\n",
              "    <tr>\n",
              "      <th>552.0</th>\n",
              "      <td>1</td>\n",
              "      <td>0</td>\n",
              "      <td>1</td>\n",
              "      <td>0</td>\n",
              "      <td>41</td>\n",
              "    </tr>\n",
              "    <tr>\n",
              "      <th>611.0</th>\n",
              "      <td>1</td>\n",
              "      <td>0</td>\n",
              "      <td>1</td>\n",
              "      <td>0</td>\n",
              "      <td>40</td>\n",
              "    </tr>\n",
              "    <tr>\n",
              "      <th>762.0</th>\n",
              "      <td>1</td>\n",
              "      <td>0</td>\n",
              "      <td>1</td>\n",
              "      <td>0</td>\n",
              "      <td>39</td>\n",
              "    </tr>\n",
              "    <tr>\n",
              "      <th>799.0</th>\n",
              "      <td>1</td>\n",
              "      <td>0</td>\n",
              "      <td>1</td>\n",
              "      <td>0</td>\n",
              "      <td>38</td>\n",
              "    </tr>\n",
              "    <tr>\n",
              "      <th>877.0</th>\n",
              "      <td>1</td>\n",
              "      <td>1</td>\n",
              "      <td>0</td>\n",
              "      <td>0</td>\n",
              "      <td>37</td>\n",
              "    </tr>\n",
              "    <tr>\n",
              "      <th>890.0</th>\n",
              "      <td>1</td>\n",
              "      <td>0</td>\n",
              "      <td>1</td>\n",
              "      <td>0</td>\n",
              "      <td>36</td>\n",
              "    </tr>\n",
              "    <tr>\n",
              "      <th>999.0</th>\n",
              "      <td>1</td>\n",
              "      <td>0</td>\n",
              "      <td>1</td>\n",
              "      <td>0</td>\n",
              "      <td>35</td>\n",
              "    </tr>\n",
              "    <tr>\n",
              "      <th>1012.0</th>\n",
              "      <td>1</td>\n",
              "      <td>0</td>\n",
              "      <td>1</td>\n",
              "      <td>0</td>\n",
              "      <td>34</td>\n",
              "    </tr>\n",
              "    <tr>\n",
              "      <th>1077.0</th>\n",
              "      <td>1</td>\n",
              "      <td>0</td>\n",
              "      <td>1</td>\n",
              "      <td>0</td>\n",
              "      <td>33</td>\n",
              "    </tr>\n",
              "    <tr>\n",
              "      <th>1129.0</th>\n",
              "      <td>1</td>\n",
              "      <td>1</td>\n",
              "      <td>0</td>\n",
              "      <td>0</td>\n",
              "      <td>32</td>\n",
              "    </tr>\n",
              "    <tr>\n",
              "      <th>1152.0</th>\n",
              "      <td>1</td>\n",
              "      <td>0</td>\n",
              "      <td>1</td>\n",
              "      <td>0</td>\n",
              "      <td>31</td>\n",
              "    </tr>\n",
              "    <tr>\n",
              "      <th>1170.0</th>\n",
              "      <td>1</td>\n",
              "      <td>1</td>\n",
              "      <td>0</td>\n",
              "      <td>0</td>\n",
              "      <td>30</td>\n",
              "    </tr>\n",
              "    <tr>\n",
              "      <th>1217.0</th>\n",
              "      <td>1</td>\n",
              "      <td>0</td>\n",
              "      <td>1</td>\n",
              "      <td>0</td>\n",
              "      <td>29</td>\n",
              "    </tr>\n",
              "    <tr>\n",
              "      <th>1297.0</th>\n",
              "      <td>1</td>\n",
              "      <td>0</td>\n",
              "      <td>1</td>\n",
              "      <td>0</td>\n",
              "      <td>28</td>\n",
              "    </tr>\n",
              "    <tr>\n",
              "      <th>1302.0</th>\n",
              "      <td>1</td>\n",
              "      <td>1</td>\n",
              "      <td>0</td>\n",
              "      <td>0</td>\n",
              "      <td>27</td>\n",
              "    </tr>\n",
              "    <tr>\n",
              "      <th>1329.0</th>\n",
              "      <td>1</td>\n",
              "      <td>1</td>\n",
              "      <td>0</td>\n",
              "      <td>0</td>\n",
              "      <td>26</td>\n",
              "    </tr>\n",
              "    <tr>\n",
              "      <th>1360.0</th>\n",
              "      <td>1</td>\n",
              "      <td>0</td>\n",
              "      <td>1</td>\n",
              "      <td>0</td>\n",
              "      <td>25</td>\n",
              "    </tr>\n",
              "    <tr>\n",
              "      <th>1419.0</th>\n",
              "      <td>1</td>\n",
              "      <td>1</td>\n",
              "      <td>0</td>\n",
              "      <td>0</td>\n",
              "      <td>24</td>\n",
              "    </tr>\n",
              "    <tr>\n",
              "      <th>1478.0</th>\n",
              "      <td>1</td>\n",
              "      <td>0</td>\n",
              "      <td>1</td>\n",
              "      <td>0</td>\n",
              "      <td>23</td>\n",
              "    </tr>\n",
              "    <tr>\n",
              "      <th>1536.0</th>\n",
              "      <td>1</td>\n",
              "      <td>0</td>\n",
              "      <td>1</td>\n",
              "      <td>0</td>\n",
              "      <td>22</td>\n",
              "    </tr>\n",
              "    <tr>\n",
              "      <th>1654.0</th>\n",
              "      <td>1</td>\n",
              "      <td>1</td>\n",
              "      <td>0</td>\n",
              "      <td>0</td>\n",
              "      <td>21</td>\n",
              "    </tr>\n",
              "    <tr>\n",
              "      <th>1656.0</th>\n",
              "      <td>1</td>\n",
              "      <td>1</td>\n",
              "      <td>0</td>\n",
              "      <td>0</td>\n",
              "      <td>20</td>\n",
              "    </tr>\n",
              "    <tr>\n",
              "      <th>1682.0</th>\n",
              "      <td>1</td>\n",
              "      <td>0</td>\n",
              "      <td>1</td>\n",
              "      <td>0</td>\n",
              "      <td>19</td>\n",
              "    </tr>\n",
              "    <tr>\n",
              "      <th>1746.0</th>\n",
              "      <td>1</td>\n",
              "      <td>0</td>\n",
              "      <td>1</td>\n",
              "      <td>0</td>\n",
              "      <td>18</td>\n",
              "    </tr>\n",
              "    <tr>\n",
              "      <th>1765.0</th>\n",
              "      <td>1</td>\n",
              "      <td>1</td>\n",
              "      <td>0</td>\n",
              "      <td>0</td>\n",
              "      <td>17</td>\n",
              "    </tr>\n",
              "    <tr>\n",
              "      <th>1899.0</th>\n",
              "      <td>1</td>\n",
              "      <td>1</td>\n",
              "      <td>0</td>\n",
              "      <td>0</td>\n",
              "      <td>16</td>\n",
              "    </tr>\n",
              "    <tr>\n",
              "      <th>2033.0</th>\n",
              "      <td>1</td>\n",
              "      <td>1</td>\n",
              "      <td>0</td>\n",
              "      <td>0</td>\n",
              "      <td>15</td>\n",
              "    </tr>\n",
              "    <tr>\n",
              "      <th>2224.0</th>\n",
              "      <td>1</td>\n",
              "      <td>1</td>\n",
              "      <td>0</td>\n",
              "      <td>0</td>\n",
              "      <td>14</td>\n",
              "    </tr>\n",
              "    <tr>\n",
              "      <th>2386.0</th>\n",
              "      <td>1</td>\n",
              "      <td>0</td>\n",
              "      <td>1</td>\n",
              "      <td>0</td>\n",
              "      <td>13</td>\n",
              "    </tr>\n",
              "    <tr>\n",
              "      <th>2689.0</th>\n",
              "      <td>1</td>\n",
              "      <td>0</td>\n",
              "      <td>1</td>\n",
              "      <td>0</td>\n",
              "      <td>12</td>\n",
              "    </tr>\n",
              "    <tr>\n",
              "      <th>2796.0</th>\n",
              "      <td>1</td>\n",
              "      <td>0</td>\n",
              "      <td>1</td>\n",
              "      <td>0</td>\n",
              "      <td>11</td>\n",
              "    </tr>\n",
              "    <tr>\n",
              "      <th>2834.0</th>\n",
              "      <td>1</td>\n",
              "      <td>1</td>\n",
              "      <td>0</td>\n",
              "      <td>0</td>\n",
              "      <td>10</td>\n",
              "    </tr>\n",
              "    <tr>\n",
              "      <th>3069.0</th>\n",
              "      <td>1</td>\n",
              "      <td>1</td>\n",
              "      <td>0</td>\n",
              "      <td>0</td>\n",
              "      <td>9</td>\n",
              "    </tr>\n",
              "    <tr>\n",
              "      <th>3395.0</th>\n",
              "      <td>1</td>\n",
              "      <td>0</td>\n",
              "      <td>1</td>\n",
              "      <td>0</td>\n",
              "      <td>8</td>\n",
              "    </tr>\n",
              "    <tr>\n",
              "      <th>3445.0</th>\n",
              "      <td>1</td>\n",
              "      <td>1</td>\n",
              "      <td>0</td>\n",
              "      <td>0</td>\n",
              "      <td>7</td>\n",
              "    </tr>\n",
              "    <tr>\n",
              "      <th>3820.0</th>\n",
              "      <td>1</td>\n",
              "      <td>1</td>\n",
              "      <td>0</td>\n",
              "      <td>0</td>\n",
              "      <td>6</td>\n",
              "    </tr>\n",
              "    <tr>\n",
              "      <th>4079.0</th>\n",
              "      <td>1</td>\n",
              "      <td>0</td>\n",
              "      <td>1</td>\n",
              "      <td>0</td>\n",
              "      <td>5</td>\n",
              "    </tr>\n",
              "    <tr>\n",
              "      <th>4191.0</th>\n",
              "      <td>1</td>\n",
              "      <td>0</td>\n",
              "      <td>1</td>\n",
              "      <td>0</td>\n",
              "      <td>4</td>\n",
              "    </tr>\n",
              "    <tr>\n",
              "      <th>4256.0</th>\n",
              "      <td>1</td>\n",
              "      <td>1</td>\n",
              "      <td>0</td>\n",
              "      <td>0</td>\n",
              "      <td>3</td>\n",
              "    </tr>\n",
              "    <tr>\n",
              "      <th>4427.0</th>\n",
              "      <td>1</td>\n",
              "      <td>1</td>\n",
              "      <td>0</td>\n",
              "      <td>0</td>\n",
              "      <td>2</td>\n",
              "    </tr>\n",
              "    <tr>\n",
              "      <th>4459.0</th>\n",
              "      <td>1</td>\n",
              "      <td>1</td>\n",
              "      <td>0</td>\n",
              "      <td>0</td>\n",
              "      <td>1</td>\n",
              "    </tr>\n",
              "  </tbody>\n",
              "</table>\n",
              "</div>"
            ],
            "text/plain": [
              "          removed  observed  censored  entrance  at_risk\n",
              "event_at                                                \n",
              "0.0             0         0         0        44       44\n",
              "140.0           1         0         1         0       44\n",
              "191.0           1         0         1         0       43\n",
              "533.0           1         1         0         0       42\n",
              "552.0           1         0         1         0       41\n",
              "611.0           1         0         1         0       40\n",
              "762.0           1         0         1         0       39\n",
              "799.0           1         0         1         0       38\n",
              "877.0           1         1         0         0       37\n",
              "890.0           1         0         1         0       36\n",
              "999.0           1         0         1         0       35\n",
              "1012.0          1         0         1         0       34\n",
              "1077.0          1         0         1         0       33\n",
              "1129.0          1         1         0         0       32\n",
              "1152.0          1         0         1         0       31\n",
              "1170.0          1         1         0         0       30\n",
              "1217.0          1         0         1         0       29\n",
              "1297.0          1         0         1         0       28\n",
              "1302.0          1         1         0         0       27\n",
              "1329.0          1         1         0         0       26\n",
              "1360.0          1         0         1         0       25\n",
              "1419.0          1         1         0         0       24\n",
              "1478.0          1         0         1         0       23\n",
              "1536.0          1         0         1         0       22\n",
              "1654.0          1         1         0         0       21\n",
              "1656.0          1         1         0         0       20\n",
              "1682.0          1         0         1         0       19\n",
              "1746.0          1         0         1         0       18\n",
              "1765.0          1         1         0         0       17\n",
              "1899.0          1         1         0         0       16\n",
              "2033.0          1         1         0         0       15\n",
              "2224.0          1         1         0         0       14\n",
              "2386.0          1         0         1         0       13\n",
              "2689.0          1         0         1         0       12\n",
              "2796.0          1         0         1         0       11\n",
              "2834.0          1         1         0         0       10\n",
              "3069.0          1         1         0         0        9\n",
              "3395.0          1         0         1         0        8\n",
              "3445.0          1         1         0         0        7\n",
              "3820.0          1         1         0         0        6\n",
              "4079.0          1         0         1         0        5\n",
              "4191.0          1         0         1         0        4\n",
              "4256.0          1         1         0         0        3\n",
              "4427.0          1         1         0         0        2\n",
              "4459.0          1         1         0         0        1"
            ]
          },
          "metadata": {
            "tags": []
          },
          "execution_count": 25
        }
      ]
    },
    {
      "cell_type": "code",
      "metadata": {
        "colab": {
          "base_uri": "https://localhost:8080/",
          "height": 450
        },
        "id": "RjbC9DDbK5CF",
        "outputId": "453b6e0b-146a-46f3-ceba-ac07fe8e9b00"
      },
      "source": [
        "# Show the event table for female\n",
        "\n",
        "kmf_female.event_table"
      ],
      "execution_count": 26,
      "outputs": [
        {
          "output_type": "execute_result",
          "data": {
            "text/html": [
              "<div>\n",
              "<style scoped>\n",
              "    .dataframe tbody tr th:only-of-type {\n",
              "        vertical-align: middle;\n",
              "    }\n",
              "\n",
              "    .dataframe tbody tr th {\n",
              "        vertical-align: top;\n",
              "    }\n",
              "\n",
              "    .dataframe thead th {\n",
              "        text-align: right;\n",
              "    }\n",
              "</style>\n",
              "<table border=\"1\" class=\"dataframe\">\n",
              "  <thead>\n",
              "    <tr style=\"text-align: right;\">\n",
              "      <th></th>\n",
              "      <th>removed</th>\n",
              "      <th>observed</th>\n",
              "      <th>censored</th>\n",
              "      <th>entrance</th>\n",
              "      <th>at_risk</th>\n",
              "    </tr>\n",
              "    <tr>\n",
              "      <th>event_at</th>\n",
              "      <th></th>\n",
              "      <th></th>\n",
              "      <th></th>\n",
              "      <th></th>\n",
              "      <th></th>\n",
              "    </tr>\n",
              "  </thead>\n",
              "  <tbody>\n",
              "    <tr>\n",
              "      <th>0.0</th>\n",
              "      <td>0</td>\n",
              "      <td>0</td>\n",
              "      <td>0</td>\n",
              "      <td>374</td>\n",
              "      <td>374</td>\n",
              "    </tr>\n",
              "    <tr>\n",
              "      <th>41.0</th>\n",
              "      <td>2</td>\n",
              "      <td>0</td>\n",
              "      <td>2</td>\n",
              "      <td>0</td>\n",
              "      <td>374</td>\n",
              "    </tr>\n",
              "    <tr>\n",
              "      <th>43.0</th>\n",
              "      <td>1</td>\n",
              "      <td>0</td>\n",
              "      <td>1</td>\n",
              "      <td>0</td>\n",
              "      <td>372</td>\n",
              "    </tr>\n",
              "    <tr>\n",
              "      <th>51.0</th>\n",
              "      <td>1</td>\n",
              "      <td>0</td>\n",
              "      <td>1</td>\n",
              "      <td>0</td>\n",
              "      <td>371</td>\n",
              "    </tr>\n",
              "    <tr>\n",
              "      <th>71.0</th>\n",
              "      <td>1</td>\n",
              "      <td>0</td>\n",
              "      <td>1</td>\n",
              "      <td>0</td>\n",
              "      <td>370</td>\n",
              "    </tr>\n",
              "    <tr>\n",
              "      <th>...</th>\n",
              "      <td>...</td>\n",
              "      <td>...</td>\n",
              "      <td>...</td>\n",
              "      <td>...</td>\n",
              "      <td>...</td>\n",
              "    </tr>\n",
              "    <tr>\n",
              "      <th>4500.0</th>\n",
              "      <td>1</td>\n",
              "      <td>1</td>\n",
              "      <td>0</td>\n",
              "      <td>0</td>\n",
              "      <td>5</td>\n",
              "    </tr>\n",
              "    <tr>\n",
              "      <th>4509.0</th>\n",
              "      <td>1</td>\n",
              "      <td>1</td>\n",
              "      <td>0</td>\n",
              "      <td>0</td>\n",
              "      <td>4</td>\n",
              "    </tr>\n",
              "    <tr>\n",
              "      <th>4523.0</th>\n",
              "      <td>1</td>\n",
              "      <td>1</td>\n",
              "      <td>0</td>\n",
              "      <td>0</td>\n",
              "      <td>3</td>\n",
              "    </tr>\n",
              "    <tr>\n",
              "      <th>4556.0</th>\n",
              "      <td>1</td>\n",
              "      <td>1</td>\n",
              "      <td>0</td>\n",
              "      <td>0</td>\n",
              "      <td>2</td>\n",
              "    </tr>\n",
              "    <tr>\n",
              "      <th>4795.0</th>\n",
              "      <td>1</td>\n",
              "      <td>1</td>\n",
              "      <td>0</td>\n",
              "      <td>0</td>\n",
              "      <td>1</td>\n",
              "    </tr>\n",
              "  </tbody>\n",
              "</table>\n",
              "<p>360 rows × 5 columns</p>\n",
              "</div>"
            ],
            "text/plain": [
              "          removed  observed  censored  entrance  at_risk\n",
              "event_at                                                \n",
              "0.0             0         0         0       374      374\n",
              "41.0            2         0         2         0      374\n",
              "43.0            1         0         1         0      372\n",
              "51.0            1         0         1         0      371\n",
              "71.0            1         0         1         0      370\n",
              "...           ...       ...       ...       ...      ...\n",
              "4500.0          1         1         0         0        5\n",
              "4509.0          1         1         0         0        4\n",
              "4523.0          1         1         0         0        3\n",
              "4556.0          1         1         0         0        2\n",
              "4795.0          1         1         0         0        1\n",
              "\n",
              "[360 rows x 5 columns]"
            ]
          },
          "metadata": {
            "tags": []
          },
          "execution_count": 26
        }
      ]
    },
    {
      "cell_type": "code",
      "metadata": {
        "colab": {
          "base_uri": "https://localhost:8080/"
        },
        "id": "7TfPTOTWK-Mt",
        "outputId": "a24e916a-cd1a-480d-cf5b-c4be3910d6ee"
      },
      "source": [
        "# Predict the survival probability of male after 5 years\n",
        "\n",
        "kmf_male.predict(1825)"
      ],
      "execution_count": 27,
      "outputs": [
        {
          "output_type": "execute_result",
          "data": {
            "text/plain": [
              "0.6720816037459357"
            ]
          },
          "metadata": {
            "tags": []
          },
          "execution_count": 27
        }
      ]
    },
    {
      "cell_type": "code",
      "metadata": {
        "colab": {
          "base_uri": "https://localhost:8080/"
        },
        "id": "kNRr0oRVLgps",
        "outputId": "e8b709d8-24fd-4740-883a-0e9bf340df8b"
      },
      "source": [
        "# Predict the survival probability of female after 5 years\n",
        "\n",
        "kmf_female.predict(1825)"
      ],
      "execution_count": 28,
      "outputs": [
        {
          "output_type": "execute_result",
          "data": {
            "text/plain": [
              "0.6703226376698953"
            ]
          },
          "metadata": {
            "tags": []
          },
          "execution_count": 28
        }
      ]
    },
    {
      "cell_type": "code",
      "metadata": {
        "colab": {
          "base_uri": "https://localhost:8080/",
          "height": 1000
        },
        "id": "k5DR6xzqLoa2",
        "outputId": "a1b38a78-29a6-4b11-ac13-b79bd9d3f5e4"
      },
      "source": [
        "# What is the survival probability for all the timeline for male?\n",
        "\n",
        "kmf_male.survival_function_"
      ],
      "execution_count": 29,
      "outputs": [
        {
          "output_type": "execute_result",
          "data": {
            "text/html": [
              "<div>\n",
              "<style scoped>\n",
              "    .dataframe tbody tr th:only-of-type {\n",
              "        vertical-align: middle;\n",
              "    }\n",
              "\n",
              "    .dataframe tbody tr th {\n",
              "        vertical-align: top;\n",
              "    }\n",
              "\n",
              "    .dataframe thead th {\n",
              "        text-align: right;\n",
              "    }\n",
              "</style>\n",
              "<table border=\"1\" class=\"dataframe\">\n",
              "  <thead>\n",
              "    <tr style=\"text-align: right;\">\n",
              "      <th></th>\n",
              "      <th>Male</th>\n",
              "    </tr>\n",
              "    <tr>\n",
              "      <th>timeline</th>\n",
              "      <th></th>\n",
              "    </tr>\n",
              "  </thead>\n",
              "  <tbody>\n",
              "    <tr>\n",
              "      <th>0.0</th>\n",
              "      <td>1.000000</td>\n",
              "    </tr>\n",
              "    <tr>\n",
              "      <th>140.0</th>\n",
              "      <td>1.000000</td>\n",
              "    </tr>\n",
              "    <tr>\n",
              "      <th>191.0</th>\n",
              "      <td>1.000000</td>\n",
              "    </tr>\n",
              "    <tr>\n",
              "      <th>533.0</th>\n",
              "      <td>0.976190</td>\n",
              "    </tr>\n",
              "    <tr>\n",
              "      <th>552.0</th>\n",
              "      <td>0.976190</td>\n",
              "    </tr>\n",
              "    <tr>\n",
              "      <th>611.0</th>\n",
              "      <td>0.976190</td>\n",
              "    </tr>\n",
              "    <tr>\n",
              "      <th>762.0</th>\n",
              "      <td>0.976190</td>\n",
              "    </tr>\n",
              "    <tr>\n",
              "      <th>799.0</th>\n",
              "      <td>0.976190</td>\n",
              "    </tr>\n",
              "    <tr>\n",
              "      <th>877.0</th>\n",
              "      <td>0.949807</td>\n",
              "    </tr>\n",
              "    <tr>\n",
              "      <th>890.0</th>\n",
              "      <td>0.949807</td>\n",
              "    </tr>\n",
              "    <tr>\n",
              "      <th>999.0</th>\n",
              "      <td>0.949807</td>\n",
              "    </tr>\n",
              "    <tr>\n",
              "      <th>1012.0</th>\n",
              "      <td>0.949807</td>\n",
              "    </tr>\n",
              "    <tr>\n",
              "      <th>1077.0</th>\n",
              "      <td>0.949807</td>\n",
              "    </tr>\n",
              "    <tr>\n",
              "      <th>1129.0</th>\n",
              "      <td>0.920125</td>\n",
              "    </tr>\n",
              "    <tr>\n",
              "      <th>1152.0</th>\n",
              "      <td>0.920125</td>\n",
              "    </tr>\n",
              "    <tr>\n",
              "      <th>1170.0</th>\n",
              "      <td>0.889455</td>\n",
              "    </tr>\n",
              "    <tr>\n",
              "      <th>1217.0</th>\n",
              "      <td>0.889455</td>\n",
              "    </tr>\n",
              "    <tr>\n",
              "      <th>1297.0</th>\n",
              "      <td>0.889455</td>\n",
              "    </tr>\n",
              "    <tr>\n",
              "      <th>1302.0</th>\n",
              "      <td>0.856512</td>\n",
              "    </tr>\n",
              "    <tr>\n",
              "      <th>1329.0</th>\n",
              "      <td>0.823569</td>\n",
              "    </tr>\n",
              "    <tr>\n",
              "      <th>1360.0</th>\n",
              "      <td>0.823569</td>\n",
              "    </tr>\n",
              "    <tr>\n",
              "      <th>1419.0</th>\n",
              "      <td>0.789254</td>\n",
              "    </tr>\n",
              "    <tr>\n",
              "      <th>1478.0</th>\n",
              "      <td>0.789254</td>\n",
              "    </tr>\n",
              "    <tr>\n",
              "      <th>1536.0</th>\n",
              "      <td>0.789254</td>\n",
              "    </tr>\n",
              "    <tr>\n",
              "      <th>1654.0</th>\n",
              "      <td>0.751670</td>\n",
              "    </tr>\n",
              "    <tr>\n",
              "      <th>1656.0</th>\n",
              "      <td>0.714087</td>\n",
              "    </tr>\n",
              "    <tr>\n",
              "      <th>1682.0</th>\n",
              "      <td>0.714087</td>\n",
              "    </tr>\n",
              "    <tr>\n",
              "      <th>1746.0</th>\n",
              "      <td>0.714087</td>\n",
              "    </tr>\n",
              "    <tr>\n",
              "      <th>1765.0</th>\n",
              "      <td>0.672082</td>\n",
              "    </tr>\n",
              "    <tr>\n",
              "      <th>1899.0</th>\n",
              "      <td>0.630077</td>\n",
              "    </tr>\n",
              "    <tr>\n",
              "      <th>2033.0</th>\n",
              "      <td>0.588071</td>\n",
              "    </tr>\n",
              "    <tr>\n",
              "      <th>2224.0</th>\n",
              "      <td>0.546066</td>\n",
              "    </tr>\n",
              "    <tr>\n",
              "      <th>2386.0</th>\n",
              "      <td>0.546066</td>\n",
              "    </tr>\n",
              "    <tr>\n",
              "      <th>2689.0</th>\n",
              "      <td>0.546066</td>\n",
              "    </tr>\n",
              "    <tr>\n",
              "      <th>2796.0</th>\n",
              "      <td>0.546066</td>\n",
              "    </tr>\n",
              "    <tr>\n",
              "      <th>2834.0</th>\n",
              "      <td>0.491460</td>\n",
              "    </tr>\n",
              "    <tr>\n",
              "      <th>3069.0</th>\n",
              "      <td>0.436853</td>\n",
              "    </tr>\n",
              "    <tr>\n",
              "      <th>3395.0</th>\n",
              "      <td>0.436853</td>\n",
              "    </tr>\n",
              "    <tr>\n",
              "      <th>3445.0</th>\n",
              "      <td>0.374445</td>\n",
              "    </tr>\n",
              "    <tr>\n",
              "      <th>3820.0</th>\n",
              "      <td>0.312038</td>\n",
              "    </tr>\n",
              "    <tr>\n",
              "      <th>4079.0</th>\n",
              "      <td>0.312038</td>\n",
              "    </tr>\n",
              "    <tr>\n",
              "      <th>4191.0</th>\n",
              "      <td>0.312038</td>\n",
              "    </tr>\n",
              "    <tr>\n",
              "      <th>4256.0</th>\n",
              "      <td>0.208025</td>\n",
              "    </tr>\n",
              "    <tr>\n",
              "      <th>4427.0</th>\n",
              "      <td>0.104013</td>\n",
              "    </tr>\n",
              "    <tr>\n",
              "      <th>4459.0</th>\n",
              "      <td>0.000000</td>\n",
              "    </tr>\n",
              "  </tbody>\n",
              "</table>\n",
              "</div>"
            ],
            "text/plain": [
              "              Male\n",
              "timeline          \n",
              "0.0       1.000000\n",
              "140.0     1.000000\n",
              "191.0     1.000000\n",
              "533.0     0.976190\n",
              "552.0     0.976190\n",
              "611.0     0.976190\n",
              "762.0     0.976190\n",
              "799.0     0.976190\n",
              "877.0     0.949807\n",
              "890.0     0.949807\n",
              "999.0     0.949807\n",
              "1012.0    0.949807\n",
              "1077.0    0.949807\n",
              "1129.0    0.920125\n",
              "1152.0    0.920125\n",
              "1170.0    0.889455\n",
              "1217.0    0.889455\n",
              "1297.0    0.889455\n",
              "1302.0    0.856512\n",
              "1329.0    0.823569\n",
              "1360.0    0.823569\n",
              "1419.0    0.789254\n",
              "1478.0    0.789254\n",
              "1536.0    0.789254\n",
              "1654.0    0.751670\n",
              "1656.0    0.714087\n",
              "1682.0    0.714087\n",
              "1746.0    0.714087\n",
              "1765.0    0.672082\n",
              "1899.0    0.630077\n",
              "2033.0    0.588071\n",
              "2224.0    0.546066\n",
              "2386.0    0.546066\n",
              "2689.0    0.546066\n",
              "2796.0    0.546066\n",
              "2834.0    0.491460\n",
              "3069.0    0.436853\n",
              "3395.0    0.436853\n",
              "3445.0    0.374445\n",
              "3820.0    0.312038\n",
              "4079.0    0.312038\n",
              "4191.0    0.312038\n",
              "4256.0    0.208025\n",
              "4427.0    0.104013\n",
              "4459.0    0.000000"
            ]
          },
          "metadata": {
            "tags": []
          },
          "execution_count": 29
        }
      ]
    },
    {
      "cell_type": "code",
      "metadata": {
        "colab": {
          "base_uri": "https://localhost:8080/",
          "height": 450
        },
        "id": "Qlf27ADkMDax",
        "outputId": "12cf96ca-04b8-46b9-a514-ee8e70ee06db"
      },
      "source": [
        "# What is the survival probability for all the timeline for female?\n",
        "\n",
        "kmf_female.survival_function_"
      ],
      "execution_count": 30,
      "outputs": [
        {
          "output_type": "execute_result",
          "data": {
            "text/html": [
              "<div>\n",
              "<style scoped>\n",
              "    .dataframe tbody tr th:only-of-type {\n",
              "        vertical-align: middle;\n",
              "    }\n",
              "\n",
              "    .dataframe tbody tr th {\n",
              "        vertical-align: top;\n",
              "    }\n",
              "\n",
              "    .dataframe thead th {\n",
              "        text-align: right;\n",
              "    }\n",
              "</style>\n",
              "<table border=\"1\" class=\"dataframe\">\n",
              "  <thead>\n",
              "    <tr style=\"text-align: right;\">\n",
              "      <th></th>\n",
              "      <th>Female</th>\n",
              "    </tr>\n",
              "    <tr>\n",
              "      <th>timeline</th>\n",
              "      <th></th>\n",
              "    </tr>\n",
              "  </thead>\n",
              "  <tbody>\n",
              "    <tr>\n",
              "      <th>0.0</th>\n",
              "      <td>1.000000</td>\n",
              "    </tr>\n",
              "    <tr>\n",
              "      <th>41.0</th>\n",
              "      <td>1.000000</td>\n",
              "    </tr>\n",
              "    <tr>\n",
              "      <th>43.0</th>\n",
              "      <td>1.000000</td>\n",
              "    </tr>\n",
              "    <tr>\n",
              "      <th>51.0</th>\n",
              "      <td>1.000000</td>\n",
              "    </tr>\n",
              "    <tr>\n",
              "      <th>71.0</th>\n",
              "      <td>1.000000</td>\n",
              "    </tr>\n",
              "    <tr>\n",
              "      <th>...</th>\n",
              "      <td>...</td>\n",
              "    </tr>\n",
              "    <tr>\n",
              "      <th>4500.0</th>\n",
              "      <td>0.026887</td>\n",
              "    </tr>\n",
              "    <tr>\n",
              "      <th>4509.0</th>\n",
              "      <td>0.020166</td>\n",
              "    </tr>\n",
              "    <tr>\n",
              "      <th>4523.0</th>\n",
              "      <td>0.013444</td>\n",
              "    </tr>\n",
              "    <tr>\n",
              "      <th>4556.0</th>\n",
              "      <td>0.006722</td>\n",
              "    </tr>\n",
              "    <tr>\n",
              "      <th>4795.0</th>\n",
              "      <td>0.000000</td>\n",
              "    </tr>\n",
              "  </tbody>\n",
              "</table>\n",
              "<p>360 rows × 1 columns</p>\n",
              "</div>"
            ],
            "text/plain": [
              "            Female\n",
              "timeline          \n",
              "0.0       1.000000\n",
              "41.0      1.000000\n",
              "43.0      1.000000\n",
              "51.0      1.000000\n",
              "71.0      1.000000\n",
              "...            ...\n",
              "4500.0    0.026887\n",
              "4509.0    0.020166\n",
              "4523.0    0.013444\n",
              "4556.0    0.006722\n",
              "4795.0    0.000000\n",
              "\n",
              "[360 rows x 1 columns]"
            ]
          },
          "metadata": {
            "tags": []
          },
          "execution_count": 30
        }
      ]
    },
    {
      "cell_type": "markdown",
      "metadata": {
        "id": "TzEGkXhKb83j"
      },
      "source": [
        "## Plot the survival function comparing male and female"
      ]
    },
    {
      "cell_type": "code",
      "metadata": {
        "colab": {
          "base_uri": "https://localhost:8080/",
          "height": 312
        },
        "id": "JH0d1DJPMIvJ",
        "outputId": "572ddf17-c349-4d1d-bfe8-28e3c6734cdd"
      },
      "source": [
        "kmf_male.plot()\n",
        "kmf_female.plot()\n",
        "\n",
        "plt.title('Survival comparison between male and female with primary biliary cirrhosis')\n",
        "plt.ylabel('Survival Probability')\n",
        "plt.xlabel('Days')"
      ],
      "execution_count": 31,
      "outputs": [
        {
          "output_type": "execute_result",
          "data": {
            "text/plain": [
              "Text(0.5, 0, 'Days')"
            ]
          },
          "metadata": {
            "tags": []
          },
          "execution_count": 31
        },
        {
          "output_type": "display_data",
          "data": {
            "image/png": "[encoded data removed]",
            "text/plain": [
              "<Figure size 432x288 with 1 Axes>"
            ]
          },
          "metadata": {
            "tags": [],
            "needs_background": "light"
          }
        }
      ]
    },
    {
      "cell_type": "code",
      "metadata": {
        "colab": {
          "base_uri": "https://localhost:8080/",
          "height": 1000
        },
        "id": "q0Ky4WdGNB1t",
        "outputId": "30c5938b-e17a-4b66-e361-5019f1ac1f00"
      },
      "source": [
        "# What is the probability of male dying at a certain time?\n",
        "\n",
        "kmf_male.cumulative_density_"
      ],
      "execution_count": 32,
      "outputs": [
        {
          "output_type": "execute_result",
          "data": {
            "text/html": [
              "<div>\n",
              "<style scoped>\n",
              "    .dataframe tbody tr th:only-of-type {\n",
              "        vertical-align: middle;\n",
              "    }\n",
              "\n",
              "    .dataframe tbody tr th {\n",
              "        vertical-align: top;\n",
              "    }\n",
              "\n",
              "    .dataframe thead th {\n",
              "        text-align: right;\n",
              "    }\n",
              "</style>\n",
              "<table border=\"1\" class=\"dataframe\">\n",
              "  <thead>\n",
              "    <tr style=\"text-align: right;\">\n",
              "      <th></th>\n",
              "      <th>Male</th>\n",
              "    </tr>\n",
              "    <tr>\n",
              "      <th>timeline</th>\n",
              "      <th></th>\n",
              "    </tr>\n",
              "  </thead>\n",
              "  <tbody>\n",
              "    <tr>\n",
              "      <th>0.0</th>\n",
              "      <td>0.000000</td>\n",
              "    </tr>\n",
              "    <tr>\n",
              "      <th>140.0</th>\n",
              "      <td>0.000000</td>\n",
              "    </tr>\n",
              "    <tr>\n",
              "      <th>191.0</th>\n",
              "      <td>0.000000</td>\n",
              "    </tr>\n",
              "    <tr>\n",
              "      <th>533.0</th>\n",
              "      <td>0.023810</td>\n",
              "    </tr>\n",
              "    <tr>\n",
              "      <th>552.0</th>\n",
              "      <td>0.023810</td>\n",
              "    </tr>\n",
              "    <tr>\n",
              "      <th>611.0</th>\n",
              "      <td>0.023810</td>\n",
              "    </tr>\n",
              "    <tr>\n",
              "      <th>762.0</th>\n",
              "      <td>0.023810</td>\n",
              "    </tr>\n",
              "    <tr>\n",
              "      <th>799.0</th>\n",
              "      <td>0.023810</td>\n",
              "    </tr>\n",
              "    <tr>\n",
              "      <th>877.0</th>\n",
              "      <td>0.050193</td>\n",
              "    </tr>\n",
              "    <tr>\n",
              "      <th>890.0</th>\n",
              "      <td>0.050193</td>\n",
              "    </tr>\n",
              "    <tr>\n",
              "      <th>999.0</th>\n",
              "      <td>0.050193</td>\n",
              "    </tr>\n",
              "    <tr>\n",
              "      <th>1012.0</th>\n",
              "      <td>0.050193</td>\n",
              "    </tr>\n",
              "    <tr>\n",
              "      <th>1077.0</th>\n",
              "      <td>0.050193</td>\n",
              "    </tr>\n",
              "    <tr>\n",
              "      <th>1129.0</th>\n",
              "      <td>0.079875</td>\n",
              "    </tr>\n",
              "    <tr>\n",
              "      <th>1152.0</th>\n",
              "      <td>0.079875</td>\n",
              "    </tr>\n",
              "    <tr>\n",
              "      <th>1170.0</th>\n",
              "      <td>0.110545</td>\n",
              "    </tr>\n",
              "    <tr>\n",
              "      <th>1217.0</th>\n",
              "      <td>0.110545</td>\n",
              "    </tr>\n",
              "    <tr>\n",
              "      <th>1297.0</th>\n",
              "      <td>0.110545</td>\n",
              "    </tr>\n",
              "    <tr>\n",
              "      <th>1302.0</th>\n",
              "      <td>0.143488</td>\n",
              "    </tr>\n",
              "    <tr>\n",
              "      <th>1329.0</th>\n",
              "      <td>0.176431</td>\n",
              "    </tr>\n",
              "    <tr>\n",
              "      <th>1360.0</th>\n",
              "      <td>0.176431</td>\n",
              "    </tr>\n",
              "    <tr>\n",
              "      <th>1419.0</th>\n",
              "      <td>0.210746</td>\n",
              "    </tr>\n",
              "    <tr>\n",
              "      <th>1478.0</th>\n",
              "      <td>0.210746</td>\n",
              "    </tr>\n",
              "    <tr>\n",
              "      <th>1536.0</th>\n",
              "      <td>0.210746</td>\n",
              "    </tr>\n",
              "    <tr>\n",
              "      <th>1654.0</th>\n",
              "      <td>0.248330</td>\n",
              "    </tr>\n",
              "    <tr>\n",
              "      <th>1656.0</th>\n",
              "      <td>0.285913</td>\n",
              "    </tr>\n",
              "    <tr>\n",
              "      <th>1682.0</th>\n",
              "      <td>0.285913</td>\n",
              "    </tr>\n",
              "    <tr>\n",
              "      <th>1746.0</th>\n",
              "      <td>0.285913</td>\n",
              "    </tr>\n",
              "    <tr>\n",
              "      <th>1765.0</th>\n",
              "      <td>0.327918</td>\n",
              "    </tr>\n",
              "    <tr>\n",
              "      <th>1899.0</th>\n",
              "      <td>0.369923</td>\n",
              "    </tr>\n",
              "    <tr>\n",
              "      <th>2033.0</th>\n",
              "      <td>0.411929</td>\n",
              "    </tr>\n",
              "    <tr>\n",
              "      <th>2224.0</th>\n",
              "      <td>0.453934</td>\n",
              "    </tr>\n",
              "    <tr>\n",
              "      <th>2386.0</th>\n",
              "      <td>0.453934</td>\n",
              "    </tr>\n",
              "    <tr>\n",
              "      <th>2689.0</th>\n",
              "      <td>0.453934</td>\n",
              "    </tr>\n",
              "    <tr>\n",
              "      <th>2796.0</th>\n",
              "      <td>0.453934</td>\n",
              "    </tr>\n",
              "    <tr>\n",
              "      <th>2834.0</th>\n",
              "      <td>0.508540</td>\n",
              "    </tr>\n",
              "    <tr>\n",
              "      <th>3069.0</th>\n",
              "      <td>0.563147</td>\n",
              "    </tr>\n",
              "    <tr>\n",
              "      <th>3395.0</th>\n",
              "      <td>0.563147</td>\n",
              "    </tr>\n",
              "    <tr>\n",
              "      <th>3445.0</th>\n",
              "      <td>0.625555</td>\n",
              "    </tr>\n",
              "    <tr>\n",
              "      <th>3820.0</th>\n",
              "      <td>0.687962</td>\n",
              "    </tr>\n",
              "    <tr>\n",
              "      <th>4079.0</th>\n",
              "      <td>0.687962</td>\n",
              "    </tr>\n",
              "    <tr>\n",
              "      <th>4191.0</th>\n",
              "      <td>0.687962</td>\n",
              "    </tr>\n",
              "    <tr>\n",
              "      <th>4256.0</th>\n",
              "      <td>0.791975</td>\n",
              "    </tr>\n",
              "    <tr>\n",
              "      <th>4427.0</th>\n",
              "      <td>0.895987</td>\n",
              "    </tr>\n",
              "    <tr>\n",
              "      <th>4459.0</th>\n",
              "      <td>1.000000</td>\n",
              "    </tr>\n",
              "  </tbody>\n",
              "</table>\n",
              "</div>"
            ],
            "text/plain": [
              "              Male\n",
              "timeline          \n",
              "0.0       0.000000\n",
              "140.0     0.000000\n",
              "191.0     0.000000\n",
              "533.0     0.023810\n",
              "552.0     0.023810\n",
              "611.0     0.023810\n",
              "762.0     0.023810\n",
              "799.0     0.023810\n",
              "877.0     0.050193\n",
              "890.0     0.050193\n",
              "999.0     0.050193\n",
              "1012.0    0.050193\n",
              "1077.0    0.050193\n",
              "1129.0    0.079875\n",
              "1152.0    0.079875\n",
              "1170.0    0.110545\n",
              "1217.0    0.110545\n",
              "1297.0    0.110545\n",
              "1302.0    0.143488\n",
              "1329.0    0.176431\n",
              "1360.0    0.176431\n",
              "1419.0    0.210746\n",
              "1478.0    0.210746\n",
              "1536.0    0.210746\n",
              "1654.0    0.248330\n",
              "1656.0    0.285913\n",
              "1682.0    0.285913\n",
              "1746.0    0.285913\n",
              "1765.0    0.327918\n",
              "1899.0    0.369923\n",
              "2033.0    0.411929\n",
              "2224.0    0.453934\n",
              "2386.0    0.453934\n",
              "2689.0    0.453934\n",
              "2796.0    0.453934\n",
              "2834.0    0.508540\n",
              "3069.0    0.563147\n",
              "3395.0    0.563147\n",
              "3445.0    0.625555\n",
              "3820.0    0.687962\n",
              "4079.0    0.687962\n",
              "4191.0    0.687962\n",
              "4256.0    0.791975\n",
              "4427.0    0.895987\n",
              "4459.0    1.000000"
            ]
          },
          "metadata": {
            "tags": []
          },
          "execution_count": 32
        }
      ]
    },
    {
      "cell_type": "code",
      "metadata": {
        "colab": {
          "base_uri": "https://localhost:8080/",
          "height": 450
        },
        "id": "pGDBS_q1NzF0",
        "outputId": "6c975918-5253-432b-bbbd-a9befda6dba6"
      },
      "source": [
        "# What is the probability of female dying at a certain time?\n",
        "\n",
        "kmf_female.cumulative_density_"
      ],
      "execution_count": 33,
      "outputs": [
        {
          "output_type": "execute_result",
          "data": {
            "text/html": [
              "<div>\n",
              "<style scoped>\n",
              "    .dataframe tbody tr th:only-of-type {\n",
              "        vertical-align: middle;\n",
              "    }\n",
              "\n",
              "    .dataframe tbody tr th {\n",
              "        vertical-align: top;\n",
              "    }\n",
              "\n",
              "    .dataframe thead th {\n",
              "        text-align: right;\n",
              "    }\n",
              "</style>\n",
              "<table border=\"1\" class=\"dataframe\">\n",
              "  <thead>\n",
              "    <tr style=\"text-align: right;\">\n",
              "      <th></th>\n",
              "      <th>Female</th>\n",
              "    </tr>\n",
              "    <tr>\n",
              "      <th>timeline</th>\n",
              "      <th></th>\n",
              "    </tr>\n",
              "  </thead>\n",
              "  <tbody>\n",
              "    <tr>\n",
              "      <th>0.0</th>\n",
              "      <td>0.000000</td>\n",
              "    </tr>\n",
              "    <tr>\n",
              "      <th>41.0</th>\n",
              "      <td>0.000000</td>\n",
              "    </tr>\n",
              "    <tr>\n",
              "      <th>43.0</th>\n",
              "      <td>0.000000</td>\n",
              "    </tr>\n",
              "    <tr>\n",
              "      <th>51.0</th>\n",
              "      <td>0.000000</td>\n",
              "    </tr>\n",
              "    <tr>\n",
              "      <th>71.0</th>\n",
              "      <td>0.000000</td>\n",
              "    </tr>\n",
              "    <tr>\n",
              "      <th>...</th>\n",
              "      <td>...</td>\n",
              "    </tr>\n",
              "    <tr>\n",
              "      <th>4500.0</th>\n",
              "      <td>0.973113</td>\n",
              "    </tr>\n",
              "    <tr>\n",
              "      <th>4509.0</th>\n",
              "      <td>0.979834</td>\n",
              "    </tr>\n",
              "    <tr>\n",
              "      <th>4523.0</th>\n",
              "      <td>0.986556</td>\n",
              "    </tr>\n",
              "    <tr>\n",
              "      <th>4556.0</th>\n",
              "      <td>0.993278</td>\n",
              "    </tr>\n",
              "    <tr>\n",
              "      <th>4795.0</th>\n",
              "      <td>1.000000</td>\n",
              "    </tr>\n",
              "  </tbody>\n",
              "</table>\n",
              "<p>360 rows × 1 columns</p>\n",
              "</div>"
            ],
            "text/plain": [
              "            Female\n",
              "timeline          \n",
              "0.0       0.000000\n",
              "41.0      0.000000\n",
              "43.0      0.000000\n",
              "51.0      0.000000\n",
              "71.0      0.000000\n",
              "...            ...\n",
              "4500.0    0.973113\n",
              "4509.0    0.979834\n",
              "4523.0    0.986556\n",
              "4556.0    0.993278\n",
              "4795.0    1.000000\n",
              "\n",
              "[360 rows x 1 columns]"
            ]
          },
          "metadata": {
            "tags": []
          },
          "execution_count": 33
        }
      ]
    },
    {
      "cell_type": "markdown",
      "metadata": {
        "id": "3lzFYEFMcCsB"
      },
      "source": [
        "## Plot the cumulative density"
      ]
    },
    {
      "cell_type": "code",
      "metadata": {
        "colab": {
          "base_uri": "https://localhost:8080/",
          "height": 295
        },
        "id": "wCp-xE3qOcps",
        "outputId": "1d940e5b-51e6-4ada-c3e9-340f99ae64b1"
      },
      "source": [
        "kmf_male.plot_cumulative_density()\n",
        "kmf_female.plot_cumulative_density()\n",
        "\n",
        "plt.title('Comparison between male and female dying from primary biliary cirrhosis')\n",
        "plt.ylabel('Probability of Death')\n",
        "plt.xlabel('Days')\n",
        "plt.show()"
      ],
      "execution_count": 34,
      "outputs": [
        {
          "output_type": "display_data",
          "data": {
            "image/png": "[encoded data removed]",
            "text/plain": [
              "<Figure size 432x288 with 1 Axes>"
            ]
          },
          "metadata": {
            "tags": [],
            "needs_background": "light"
          }
        }
      ]
    },
    {
      "cell_type": "markdown",
      "metadata": {
        "id": "SKqhbQTXQMwM"
      },
      "source": [
        "## Hazard function (between 2 groups)\n",
        "Nelson-Aalen curve"
      ]
    },
    {
      "cell_type": "code",
      "metadata": {
        "colab": {
          "base_uri": "https://localhost:8080/"
        },
        "id": "n-07ahV3PArv",
        "outputId": "eef8559f-e67f-48c0-ea78-ca896965f90e"
      },
      "source": [
        "# Create a separate object for each sex\n",
        "\n",
        "naf_male = NelsonAalenFitter()\n",
        "naf_female = NelsonAalenFitter()\n",
        "\n",
        "# Fit the dataset\n",
        "\n",
        "naf_male.fit(male['Days'], event_observed = male['Status'], label = 'Male')\n",
        "naf_female.fit(female['Days'], event_observed = female['Status'], label = 'Female')"
      ],
      "execution_count": 35,
      "outputs": [
        {
          "output_type": "execute_result",
          "data": {
            "text/plain": [
              "<lifelines.NelsonAalenFitter:\"Female\", fitted with 374 total observations, 137 right-censored observations>"
            ]
          },
          "metadata": {
            "tags": []
          },
          "execution_count": 35
        }
      ]
    },
    {
      "cell_type": "code",
      "metadata": {
        "colab": {
          "base_uri": "https://localhost:8080/",
          "height": 1000
        },
        "id": "JfBuJNyVPyiw",
        "outputId": "aa574634-b5b7-4c0f-dd64-9e36ac9540a7"
      },
      "source": [
        "# What is the risk of dying from primary biliary cirrhosis in male in each timeline?\n",
        "\n",
        "naf_male.cumulative_hazard_"
      ],
      "execution_count": 36,
      "outputs": [
        {
          "output_type": "execute_result",
          "data": {
            "text/html": [
              "<div>\n",
              "<style scoped>\n",
              "    .dataframe tbody tr th:only-of-type {\n",
              "        vertical-align: middle;\n",
              "    }\n",
              "\n",
              "    .dataframe tbody tr th {\n",
              "        vertical-align: top;\n",
              "    }\n",
              "\n",
              "    .dataframe thead th {\n",
              "        text-align: right;\n",
              "    }\n",
              "</style>\n",
              "<table border=\"1\" class=\"dataframe\">\n",
              "  <thead>\n",
              "    <tr style=\"text-align: right;\">\n",
              "      <th></th>\n",
              "      <th>Male</th>\n",
              "    </tr>\n",
              "    <tr>\n",
              "      <th>timeline</th>\n",
              "      <th></th>\n",
              "    </tr>\n",
              "  </thead>\n",
              "  <tbody>\n",
              "    <tr>\n",
              "      <th>0.0</th>\n",
              "      <td>0.000000</td>\n",
              "    </tr>\n",
              "    <tr>\n",
              "      <th>140.0</th>\n",
              "      <td>0.000000</td>\n",
              "    </tr>\n",
              "    <tr>\n",
              "      <th>191.0</th>\n",
              "      <td>0.000000</td>\n",
              "    </tr>\n",
              "    <tr>\n",
              "      <th>533.0</th>\n",
              "      <td>0.023810</td>\n",
              "    </tr>\n",
              "    <tr>\n",
              "      <th>552.0</th>\n",
              "      <td>0.023810</td>\n",
              "    </tr>\n",
              "    <tr>\n",
              "      <th>611.0</th>\n",
              "      <td>0.023810</td>\n",
              "    </tr>\n",
              "    <tr>\n",
              "      <th>762.0</th>\n",
              "      <td>0.023810</td>\n",
              "    </tr>\n",
              "    <tr>\n",
              "      <th>799.0</th>\n",
              "      <td>0.023810</td>\n",
              "    </tr>\n",
              "    <tr>\n",
              "      <th>877.0</th>\n",
              "      <td>0.050837</td>\n",
              "    </tr>\n",
              "    <tr>\n",
              "      <th>890.0</th>\n",
              "      <td>0.050837</td>\n",
              "    </tr>\n",
              "    <tr>\n",
              "      <th>999.0</th>\n",
              "      <td>0.050837</td>\n",
              "    </tr>\n",
              "    <tr>\n",
              "      <th>1012.0</th>\n",
              "      <td>0.050837</td>\n",
              "    </tr>\n",
              "    <tr>\n",
              "      <th>1077.0</th>\n",
              "      <td>0.050837</td>\n",
              "    </tr>\n",
              "    <tr>\n",
              "      <th>1129.0</th>\n",
              "      <td>0.082087</td>\n",
              "    </tr>\n",
              "    <tr>\n",
              "      <th>1152.0</th>\n",
              "      <td>0.082087</td>\n",
              "    </tr>\n",
              "    <tr>\n",
              "      <th>1170.0</th>\n",
              "      <td>0.115420</td>\n",
              "    </tr>\n",
              "    <tr>\n",
              "      <th>1217.0</th>\n",
              "      <td>0.115420</td>\n",
              "    </tr>\n",
              "    <tr>\n",
              "      <th>1297.0</th>\n",
              "      <td>0.115420</td>\n",
              "    </tr>\n",
              "    <tr>\n",
              "      <th>1302.0</th>\n",
              "      <td>0.152457</td>\n",
              "    </tr>\n",
              "    <tr>\n",
              "      <th>1329.0</th>\n",
              "      <td>0.190918</td>\n",
              "    </tr>\n",
              "    <tr>\n",
              "      <th>1360.0</th>\n",
              "      <td>0.190918</td>\n",
              "    </tr>\n",
              "    <tr>\n",
              "      <th>1419.0</th>\n",
              "      <td>0.232585</td>\n",
              "    </tr>\n",
              "    <tr>\n",
              "      <th>1478.0</th>\n",
              "      <td>0.232585</td>\n",
              "    </tr>\n",
              "    <tr>\n",
              "      <th>1536.0</th>\n",
              "      <td>0.232585</td>\n",
              "    </tr>\n",
              "    <tr>\n",
              "      <th>1654.0</th>\n",
              "      <td>0.280204</td>\n",
              "    </tr>\n",
              "    <tr>\n",
              "      <th>1656.0</th>\n",
              "      <td>0.330204</td>\n",
              "    </tr>\n",
              "    <tr>\n",
              "      <th>1682.0</th>\n",
              "      <td>0.330204</td>\n",
              "    </tr>\n",
              "    <tr>\n",
              "      <th>1746.0</th>\n",
              "      <td>0.330204</td>\n",
              "    </tr>\n",
              "    <tr>\n",
              "      <th>1765.0</th>\n",
              "      <td>0.389028</td>\n",
              "    </tr>\n",
              "    <tr>\n",
              "      <th>1899.0</th>\n",
              "      <td>0.451528</td>\n",
              "    </tr>\n",
              "    <tr>\n",
              "      <th>2033.0</th>\n",
              "      <td>0.518194</td>\n",
              "    </tr>\n",
              "    <tr>\n",
              "      <th>2224.0</th>\n",
              "      <td>0.589623</td>\n",
              "    </tr>\n",
              "    <tr>\n",
              "      <th>2386.0</th>\n",
              "      <td>0.589623</td>\n",
              "    </tr>\n",
              "    <tr>\n",
              "      <th>2689.0</th>\n",
              "      <td>0.589623</td>\n",
              "    </tr>\n",
              "    <tr>\n",
              "      <th>2796.0</th>\n",
              "      <td>0.589623</td>\n",
              "    </tr>\n",
              "    <tr>\n",
              "      <th>2834.0</th>\n",
              "      <td>0.689623</td>\n",
              "    </tr>\n",
              "    <tr>\n",
              "      <th>3069.0</th>\n",
              "      <td>0.800734</td>\n",
              "    </tr>\n",
              "    <tr>\n",
              "      <th>3395.0</th>\n",
              "      <td>0.800734</td>\n",
              "    </tr>\n",
              "    <tr>\n",
              "      <th>3445.0</th>\n",
              "      <td>0.943591</td>\n",
              "    </tr>\n",
              "    <tr>\n",
              "      <th>3820.0</th>\n",
              "      <td>1.110258</td>\n",
              "    </tr>\n",
              "    <tr>\n",
              "      <th>4079.0</th>\n",
              "      <td>1.110258</td>\n",
              "    </tr>\n",
              "    <tr>\n",
              "      <th>4191.0</th>\n",
              "      <td>1.110258</td>\n",
              "    </tr>\n",
              "    <tr>\n",
              "      <th>4256.0</th>\n",
              "      <td>1.443591</td>\n",
              "    </tr>\n",
              "    <tr>\n",
              "      <th>4427.0</th>\n",
              "      <td>1.943591</td>\n",
              "    </tr>\n",
              "    <tr>\n",
              "      <th>4459.0</th>\n",
              "      <td>2.943591</td>\n",
              "    </tr>\n",
              "  </tbody>\n",
              "</table>\n",
              "</div>"
            ],
            "text/plain": [
              "              Male\n",
              "timeline          \n",
              "0.0       0.000000\n",
              "140.0     0.000000\n",
              "191.0     0.000000\n",
              "533.0     0.023810\n",
              "552.0     0.023810\n",
              "611.0     0.023810\n",
              "762.0     0.023810\n",
              "799.0     0.023810\n",
              "877.0     0.050837\n",
              "890.0     0.050837\n",
              "999.0     0.050837\n",
              "1012.0    0.050837\n",
              "1077.0    0.050837\n",
              "1129.0    0.082087\n",
              "1152.0    0.082087\n",
              "1170.0    0.115420\n",
              "1217.0    0.115420\n",
              "1297.0    0.115420\n",
              "1302.0    0.152457\n",
              "1329.0    0.190918\n",
              "1360.0    0.190918\n",
              "1419.0    0.232585\n",
              "1478.0    0.232585\n",
              "1536.0    0.232585\n",
              "1654.0    0.280204\n",
              "1656.0    0.330204\n",
              "1682.0    0.330204\n",
              "1746.0    0.330204\n",
              "1765.0    0.389028\n",
              "1899.0    0.451528\n",
              "2033.0    0.518194\n",
              "2224.0    0.589623\n",
              "2386.0    0.589623\n",
              "2689.0    0.589623\n",
              "2796.0    0.589623\n",
              "2834.0    0.689623\n",
              "3069.0    0.800734\n",
              "3395.0    0.800734\n",
              "3445.0    0.943591\n",
              "3820.0    1.110258\n",
              "4079.0    1.110258\n",
              "4191.0    1.110258\n",
              "4256.0    1.443591\n",
              "4427.0    1.943591\n",
              "4459.0    2.943591"
            ]
          },
          "metadata": {
            "tags": []
          },
          "execution_count": 36
        }
      ]
    },
    {
      "cell_type": "code",
      "metadata": {
        "colab": {
          "base_uri": "https://localhost:8080/",
          "height": 450
        },
        "id": "YMuykV7yQSWP",
        "outputId": "d1d160e4-0a23-4593-8269-dee4611e1641"
      },
      "source": [
        "# What is the risk of dying from primary biliary cirrhosis in female in each timeline?\n",
        "\n",
        "naf_female.cumulative_hazard_"
      ],
      "execution_count": 37,
      "outputs": [
        {
          "output_type": "execute_result",
          "data": {
            "text/html": [
              "<div>\n",
              "<style scoped>\n",
              "    .dataframe tbody tr th:only-of-type {\n",
              "        vertical-align: middle;\n",
              "    }\n",
              "\n",
              "    .dataframe tbody tr th {\n",
              "        vertical-align: top;\n",
              "    }\n",
              "\n",
              "    .dataframe thead th {\n",
              "        text-align: right;\n",
              "    }\n",
              "</style>\n",
              "<table border=\"1\" class=\"dataframe\">\n",
              "  <thead>\n",
              "    <tr style=\"text-align: right;\">\n",
              "      <th></th>\n",
              "      <th>Female</th>\n",
              "    </tr>\n",
              "    <tr>\n",
              "      <th>timeline</th>\n",
              "      <th></th>\n",
              "    </tr>\n",
              "  </thead>\n",
              "  <tbody>\n",
              "    <tr>\n",
              "      <th>0.0</th>\n",
              "      <td>0.000000</td>\n",
              "    </tr>\n",
              "    <tr>\n",
              "      <th>41.0</th>\n",
              "      <td>0.000000</td>\n",
              "    </tr>\n",
              "    <tr>\n",
              "      <th>43.0</th>\n",
              "      <td>0.000000</td>\n",
              "    </tr>\n",
              "    <tr>\n",
              "      <th>51.0</th>\n",
              "      <td>0.000000</td>\n",
              "    </tr>\n",
              "    <tr>\n",
              "      <th>71.0</th>\n",
              "      <td>0.000000</td>\n",
              "    </tr>\n",
              "    <tr>\n",
              "      <th>...</th>\n",
              "      <td>...</td>\n",
              "    </tr>\n",
              "    <tr>\n",
              "      <th>4500.0</th>\n",
              "      <td>3.504751</td>\n",
              "    </tr>\n",
              "    <tr>\n",
              "      <th>4509.0</th>\n",
              "      <td>3.754751</td>\n",
              "    </tr>\n",
              "    <tr>\n",
              "      <th>4523.0</th>\n",
              "      <td>4.088085</td>\n",
              "    </tr>\n",
              "    <tr>\n",
              "      <th>4556.0</th>\n",
              "      <td>4.588085</td>\n",
              "    </tr>\n",
              "    <tr>\n",
              "      <th>4795.0</th>\n",
              "      <td>5.588085</td>\n",
              "    </tr>\n",
              "  </tbody>\n",
              "</table>\n",
              "<p>360 rows × 1 columns</p>\n",
              "</div>"
            ],
            "text/plain": [
              "            Female\n",
              "timeline          \n",
              "0.0       0.000000\n",
              "41.0      0.000000\n",
              "43.0      0.000000\n",
              "51.0      0.000000\n",
              "71.0      0.000000\n",
              "...            ...\n",
              "4500.0    3.504751\n",
              "4509.0    3.754751\n",
              "4523.0    4.088085\n",
              "4556.0    4.588085\n",
              "4795.0    5.588085\n",
              "\n",
              "[360 rows x 1 columns]"
            ]
          },
          "metadata": {
            "tags": []
          },
          "execution_count": 37
        }
      ]
    },
    {
      "cell_type": "markdown",
      "metadata": {
        "id": "wTNjf32kccPP"
      },
      "source": [
        "## Plot the cumulative hazard of male and female"
      ]
    },
    {
      "cell_type": "code",
      "metadata": {
        "colab": {
          "base_uri": "https://localhost:8080/",
          "height": 295
        },
        "id": "7BmOTm7aQfHA",
        "outputId": "35e94889-168d-4f72-ab80-01072771eaf5"
      },
      "source": [
        "naf_male.plot_cumulative_hazard()\n",
        "naf_female.plot_cumulative_hazard()\n",
        "\n",
        "plt.title('Cumulative hazard of male and female')\n",
        "plt.ylabel('Hazard')\n",
        "plt.xlabel('Days')\n",
        "plt.show()"
      ],
      "execution_count": 38,
      "outputs": [
        {
          "output_type": "display_data",
          "data": {
            "image/png": "[encoded data removed]",
            "text/plain": [
              "<Figure size 432x288 with 1 Axes>"
            ]
          },
          "metadata": {
            "tags": [],
            "needs_background": "light"
          }
        }
      ]
    },
    {
      "cell_type": "markdown",
      "metadata": {
        "id": "NjGzcZ-pcowe"
      },
      "source": [
        "## Log rank test\n",
        "$H_0$: There is no difference between male and female in terms of death because of primary biliary cirrhosis.<br>\n",
        "$H_A$: There is a significant difference between male and female in terms of death because of primary biliary cirrhosis.<br>\n",
        "Level of significance: $\\alpha = 0.05$"
      ]
    },
    {
      "cell_type": "code",
      "metadata": {
        "id": "44_zu_TeQ4Aw"
      },
      "source": [
        "# Create a subset for each sex\n",
        "\n",
        "time_male = male['Days']\n",
        "dead_male = male['Status']\n",
        "\n",
        "time_female = female['Days']\n",
        "dead_female = female['Status']"
      ],
      "execution_count": 39,
      "outputs": []
    },
    {
      "cell_type": "markdown",
      "metadata": {
        "id": "G_n2JKFWeMLQ"
      },
      "source": [
        "## Perform the Log rank test"
      ]
    },
    {
      "cell_type": "code",
      "metadata": {
        "colab": {
          "base_uri": "https://localhost:8080/",
          "height": 204
        },
        "id": "A1uCR7ZbRZlZ",
        "outputId": "0c83a258-3d2e-44a1-b9ec-a44f37e1fa39"
      },
      "source": [
        "result_logrank = logrank_test(time_male, time_female, \n",
        "                              event_observed_A = dead_male, \n",
        "                              event_observed_B = dead_female)\n",
        "result_logrank"
      ],
      "execution_count": 40,
      "outputs": [
        {
          "output_type": "execute_result",
          "data": {
            "text/latex": "\\begin{tabular}{lrrr}\n\\toprule\n{} &  test\\_statistic &         p &  -log2(p) \\\\\n\\midrule\n0 &        2.467085 &  0.116253 &  3.104656 \\\\\n\\bottomrule\n\\end{tabular}\n",
            "text/html": [
              "<div>\n",
              "<style scoped>\n",
              "    .dataframe tbody tr th:only-of-type {\n",
              "        vertical-align: middle;\n",
              "    }\n",
              "\n",
              "    .dataframe tbody tr th {\n",
              "        vertical-align: top;\n",
              "    }\n",
              "\n",
              "    .dataframe thead th {\n",
              "        text-align: right;\n",
              "    }\n",
              "</style>\n",
              "<table border=\"1\" class=\"dataframe\">\n",
              "  <tbody>\n",
              "    <tr>\n",
              "      <th>t_0</th>\n",
              "      <td>-1</td>\n",
              "    </tr>\n",
              "    <tr>\n",
              "      <th>null_distribution</th>\n",
              "      <td>chi squared</td>\n",
              "    </tr>\n",
              "    <tr>\n",
              "      <th>degrees_of_freedom</th>\n",
              "      <td>1</td>\n",
              "    </tr>\n",
              "    <tr>\n",
              "      <th>test_name</th>\n",
              "      <td>logrank_test</td>\n",
              "    </tr>\n",
              "  </tbody>\n",
              "</table>\n",
              "</div><table border=\"1\" class=\"dataframe\">\n",
              "  <thead>\n",
              "    <tr style=\"text-align: right;\">\n",
              "      <th></th>\n",
              "      <th>test_statistic</th>\n",
              "      <th>p</th>\n",
              "      <th>-log2(p)</th>\n",
              "    </tr>\n",
              "  </thead>\n",
              "  <tbody>\n",
              "    <tr>\n",
              "      <th>0</th>\n",
              "      <td>2.47</td>\n",
              "      <td>0.12</td>\n",
              "      <td>3.10</td>\n",
              "    </tr>\n",
              "  </tbody>\n",
              "</table>"
            ],
            "text/plain": [
              "<lifelines.StatisticalResult: logrank_test>\n",
              "               t_0 = -1\n",
              " null_distribution = chi squared\n",
              "degrees_of_freedom = 1\n",
              "         test_name = logrank_test\n",
              "\n",
              "---\n",
              " test_statistic    p  -log2(p)\n",
              "           2.47 0.12      3.10"
            ]
          },
          "metadata": {
            "tags": []
          },
          "execution_count": 40
        }
      ]
    },
    {
      "cell_type": "markdown",
      "metadata": {
        "id": "MGxA4ojySkEW"
      },
      "source": [
        "We do not reject the $H_0$. There is no association between sex and survival from primary biliary cirrhosis."
      ]
    },
    {
      "cell_type": "code",
      "metadata": {
        "id": "mNDOd7sUSQgb"
      },
      "source": [
        ""
      ],
      "execution_count": 40,
      "outputs": []
    }
  ]
}